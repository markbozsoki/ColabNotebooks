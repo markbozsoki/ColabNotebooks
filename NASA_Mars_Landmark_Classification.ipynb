{
  "nbformat": 4,
  "nbformat_minor": 0,
  "metadata": {
    "colab": {
      "provenance": [],
      "collapsed_sections": [],
      "authorship_tag": "ABX9TyNkeNJPk/YRh/NMfmYwgZIH"
    },
    "kernelspec": {
      "name": "python3",
      "display_name": "Python 3"
    },
    "language_info": {
      "name": "python"
    }
  },
  "cells": [
    {
      "cell_type": "markdown",
      "source": [
        "[![Colab](https://colab.research.google.com/assets/colab-badge.svg)](https://colab.research.google.com/github/markbozsoki/ColabNotebooks/blob/main/NASA_Mars_Landmark_Classification.ipynb)\n",
        "[![GitHub](https://badgen.net/badge/icon/Open%20in%20GitHub?icon=github&label)](https://github.com/markbozsoki/ColabNotebooks/blob/main/NASA_Mars_Landmark_Classification.ipynb)"
      ],
      "metadata": {
        "id": "lGh4YBTXO8if"
      }
    },
    {
      "cell_type": "markdown",
      "source": [
        "<h1>Marsi domborzati elemek osztályozása<h1>\n",
        "\n",
        "NASA Mars Landmarks Classification:\n",
        "https://www.kaggle.com/datasets/sshikamaru/mars-landmarks\n",
        "\n",
        "[![DOI](https://zenodo.org/badge/DOI/10.5281/zenodo.1048301.svg)](https://doi.org/10.5281/zenodo.1048301)\n",
        "[![DOI](https://zenodo.org/badge/DOI/10.5281/zenodo.2538136.svg)](https://doi.org/10.5281/zenodo.2538136)\n",
        "[![DOI](https://zenodo.org/badge/DOI/10.5281/zenodo.4002935.svg)](https://doi.org/10.5281/zenodo.4002935)\n",
        "\n",
        "\n",
        "# https://en.wikipedia.org/wiki/HiRISE\n",
        "# https://en.wikipedia.org/wiki/Mars_Reconnaissance_Orbiter\n"
      ],
      "metadata": {
        "id": "dk4FvYGQ6B-2"
      }
    },
    {
      "cell_type": "markdown",
      "source": [
        "Az általam vizsgált adatállomány betöltését a Kaggle API-ra kapcsolódva oldottam meg.\n",
        "A következő kórrészlet letölti és kicsomagolja az adatállományt."
      ],
      "metadata": {
        "id": "JlksHFsGNLSb"
      }
    },
    {
      "cell_type": "code",
      "source": [
        "# DATA ACCESS\n",
        "\n",
        "print(\"Initializing Kaggle...\")\n",
        "!pip install -q kaggle\n",
        "!mkdir -p ~/.kaggle\n",
        "\n",
        "print(\"\\nInitializing Kaggle API access...\")\n",
        "!pip install --upgrade --no-cache-dir -q gdown\n",
        "!gdown 1m1sgCgeHHtjeeTtSKjZmFg-CRnuEIEHL -q --output ~/.kaggle/kaggle.json\n",
        "!chmod 600 ~/.kaggle/kaggle.json\n",
        "\n",
        "print(\"\")\n",
        "!kaggle datasets download --force -d sshikamaru/mars-landmarks\n",
        "\n",
        "print(\"\\nUnzipping mars-landmarks.zip to /content/mars-landmarks\")\n",
        "!unzip -q -o mars-landmarks.zip -d mars-landmarks\n",
        "\n",
        "print(\"\\nRemoving mars-landmarks.zip\")\n",
        "!rm mars-landmarks.zip\n",
        "\n",
        "print(\"\\nDone!\")"
      ],
      "metadata": {
        "id": "Sxh3jszqVjR2",
        "outputId": "b1f7755d-737d-45e1-ae39-4a17f01c40f9",
        "colab": {
          "base_uri": "https://localhost:8080/"
        }
      },
      "execution_count": null,
      "outputs": [
        {
          "output_type": "stream",
          "name": "stdout",
          "text": [
            "Initializing Kaggle...\n",
            "\n",
            "Initializing Kaggle API access...\n",
            "  Installing build dependencies ... \u001b[?25l\u001b[?25hdone\n",
            "  Getting requirements to build wheel ... \u001b[?25l\u001b[?25hdone\n",
            "    Preparing wheel metadata ... \u001b[?25l\u001b[?25hdone\n",
            "  Building wheel for gdown (PEP 517) ... \u001b[?25l\u001b[?25hdone\n",
            "\n",
            "Downloading mars-landmarks.zip to /content\n",
            " 99% 930M/940M [00:05<00:00, 188MB/s]\n",
            "100% 940M/940M [00:05<00:00, 189MB/s]\n",
            "\n",
            "Unzipping mars-landmarks.zip to /content/mars-landmarks\n",
            "\n",
            "Removing mars-landmarks.zip\n",
            "\n",
            "Done!\n"
          ]
        }
      ]
    },
    {
      "cell_type": "markdown",
      "source": [
        "---"
      ],
      "metadata": {
        "id": "-24Bxw4nv2Bn"
      }
    },
    {
      "cell_type": "code",
      "execution_count": null,
      "metadata": {
        "id": "nebhqJyn5r6C"
      },
      "outputs": [],
      "source": [
        "# IMPORTS\n",
        "\n",
        "import pandas as pd\n",
        "import numpy as np\n",
        "import tensorflow as tf\n",
        "import matplotlib.pyplot as plt\n",
        "import matplotlib.image as mpimg\n",
        "\n",
        "from collections import Counter"
      ]
    },
    {
      "cell_type": "markdown",
      "source": [
        "A képek a következő osztályokba vannak kklasszifikálva:"
      ],
      "metadata": {
        "id": "HM9kHDFkNJVb"
      }
    },
    {
      "cell_type": "code",
      "source": [
        "classmap_csv = pd.read_csv(\"mars-landmarks/landmarks_map-proj-v3_classmap.csv\", header=None, names=[\"Class_ID\", \"Class_Name\"])\n",
        "classmap_csv"
      ],
      "metadata": {
        "colab": {
          "base_uri": "https://localhost:8080/",
          "height": 300
        },
        "id": "Qv8Cfn5V7ucR",
        "outputId": "fa09f2c6-eec8-4cfe-df13-3843f7ecce89"
      },
      "execution_count": null,
      "outputs": [
        {
          "output_type": "execute_result",
          "data": {
            "text/plain": [
              "   Class_ID     Class_Name\n",
              "0         0          other\n",
              "1         1         crater\n",
              "2         2      dark dune\n",
              "3         3   slope streak\n",
              "4         4    bright dune\n",
              "5         5  impact ejecta\n",
              "6         6   swiss cheese\n",
              "7         7         spider"
            ],
            "text/html": [
              "\n",
              "  <div id=\"df-0cfc4a6b-1f8b-44ec-9f95-58d154c5832a\">\n",
              "    <div class=\"colab-df-container\">\n",
              "      <div>\n",
              "<style scoped>\n",
              "    .dataframe tbody tr th:only-of-type {\n",
              "        vertical-align: middle;\n",
              "    }\n",
              "\n",
              "    .dataframe tbody tr th {\n",
              "        vertical-align: top;\n",
              "    }\n",
              "\n",
              "    .dataframe thead th {\n",
              "        text-align: right;\n",
              "    }\n",
              "</style>\n",
              "<table border=\"1\" class=\"dataframe\">\n",
              "  <thead>\n",
              "    <tr style=\"text-align: right;\">\n",
              "      <th></th>\n",
              "      <th>Class_ID</th>\n",
              "      <th>Class_Name</th>\n",
              "    </tr>\n",
              "  </thead>\n",
              "  <tbody>\n",
              "    <tr>\n",
              "      <th>0</th>\n",
              "      <td>0</td>\n",
              "      <td>other</td>\n",
              "    </tr>\n",
              "    <tr>\n",
              "      <th>1</th>\n",
              "      <td>1</td>\n",
              "      <td>crater</td>\n",
              "    </tr>\n",
              "    <tr>\n",
              "      <th>2</th>\n",
              "      <td>2</td>\n",
              "      <td>dark dune</td>\n",
              "    </tr>\n",
              "    <tr>\n",
              "      <th>3</th>\n",
              "      <td>3</td>\n",
              "      <td>slope streak</td>\n",
              "    </tr>\n",
              "    <tr>\n",
              "      <th>4</th>\n",
              "      <td>4</td>\n",
              "      <td>bright dune</td>\n",
              "    </tr>\n",
              "    <tr>\n",
              "      <th>5</th>\n",
              "      <td>5</td>\n",
              "      <td>impact ejecta</td>\n",
              "    </tr>\n",
              "    <tr>\n",
              "      <th>6</th>\n",
              "      <td>6</td>\n",
              "      <td>swiss cheese</td>\n",
              "    </tr>\n",
              "    <tr>\n",
              "      <th>7</th>\n",
              "      <td>7</td>\n",
              "      <td>spider</td>\n",
              "    </tr>\n",
              "  </tbody>\n",
              "</table>\n",
              "</div>\n",
              "      <button class=\"colab-df-convert\" onclick=\"convertToInteractive('df-0cfc4a6b-1f8b-44ec-9f95-58d154c5832a')\"\n",
              "              title=\"Convert this dataframe to an interactive table.\"\n",
              "              style=\"display:none;\">\n",
              "        \n",
              "  <svg xmlns=\"http://www.w3.org/2000/svg\" height=\"24px\"viewBox=\"0 0 24 24\"\n",
              "       width=\"24px\">\n",
              "    <path d=\"M0 0h24v24H0V0z\" fill=\"none\"/>\n",
              "    <path d=\"M18.56 5.44l.94 2.06.94-2.06 2.06-.94-2.06-.94-.94-2.06-.94 2.06-2.06.94zm-11 1L8.5 8.5l.94-2.06 2.06-.94-2.06-.94L8.5 2.5l-.94 2.06-2.06.94zm10 10l.94 2.06.94-2.06 2.06-.94-2.06-.94-.94-2.06-.94 2.06-2.06.94z\"/><path d=\"M17.41 7.96l-1.37-1.37c-.4-.4-.92-.59-1.43-.59-.52 0-1.04.2-1.43.59L10.3 9.45l-7.72 7.72c-.78.78-.78 2.05 0 2.83L4 21.41c.39.39.9.59 1.41.59.51 0 1.02-.2 1.41-.59l7.78-7.78 2.81-2.81c.8-.78.8-2.07 0-2.86zM5.41 20L4 18.59l7.72-7.72 1.47 1.35L5.41 20z\"/>\n",
              "  </svg>\n",
              "      </button>\n",
              "      \n",
              "  <style>\n",
              "    .colab-df-container {\n",
              "      display:flex;\n",
              "      flex-wrap:wrap;\n",
              "      gap: 12px;\n",
              "    }\n",
              "\n",
              "    .colab-df-convert {\n",
              "      background-color: #E8F0FE;\n",
              "      border: none;\n",
              "      border-radius: 50%;\n",
              "      cursor: pointer;\n",
              "      display: none;\n",
              "      fill: #1967D2;\n",
              "      height: 32px;\n",
              "      padding: 0 0 0 0;\n",
              "      width: 32px;\n",
              "    }\n",
              "\n",
              "    .colab-df-convert:hover {\n",
              "      background-color: #E2EBFA;\n",
              "      box-shadow: 0px 1px 2px rgba(60, 64, 67, 0.3), 0px 1px 3px 1px rgba(60, 64, 67, 0.15);\n",
              "      fill: #174EA6;\n",
              "    }\n",
              "\n",
              "    [theme=dark] .colab-df-convert {\n",
              "      background-color: #3B4455;\n",
              "      fill: #D2E3FC;\n",
              "    }\n",
              "\n",
              "    [theme=dark] .colab-df-convert:hover {\n",
              "      background-color: #434B5C;\n",
              "      box-shadow: 0px 1px 3px 1px rgba(0, 0, 0, 0.15);\n",
              "      filter: drop-shadow(0px 1px 2px rgba(0, 0, 0, 0.3));\n",
              "      fill: #FFFFFF;\n",
              "    }\n",
              "  </style>\n",
              "\n",
              "      <script>\n",
              "        const buttonEl =\n",
              "          document.querySelector('#df-0cfc4a6b-1f8b-44ec-9f95-58d154c5832a button.colab-df-convert');\n",
              "        buttonEl.style.display =\n",
              "          google.colab.kernel.accessAllowed ? 'block' : 'none';\n",
              "\n",
              "        async function convertToInteractive(key) {\n",
              "          const element = document.querySelector('#df-0cfc4a6b-1f8b-44ec-9f95-58d154c5832a');\n",
              "          const dataTable =\n",
              "            await google.colab.kernel.invokeFunction('convertToInteractive',\n",
              "                                                     [key], {});\n",
              "          if (!dataTable) return;\n",
              "\n",
              "          const docLinkHtml = 'Like what you see? Visit the ' +\n",
              "            '<a target=\"_blank\" href=https://colab.research.google.com/notebooks/data_table.ipynb>data table notebook</a>'\n",
              "            + ' to learn more about interactive tables.';\n",
              "          element.innerHTML = '';\n",
              "          dataTable['output_type'] = 'display_data';\n",
              "          await google.colab.output.renderOutput(dataTable, element);\n",
              "          const docLink = document.createElement('div');\n",
              "          docLink.innerHTML = docLinkHtml;\n",
              "          element.appendChild(docLink);\n",
              "        }\n",
              "      </script>\n",
              "    </div>\n",
              "  </div>\n",
              "  "
            ]
          },
          "metadata": {},
          "execution_count": 3
        }
      ]
    },
    {
      "cell_type": "markdown",
      "source": [],
      "metadata": {
        "id": "hNXWI7FBOErv"
      }
    },
    {
      "cell_type": "code",
      "source": [
        "labels_csv = pd.read_csv(\"mars-landmarks/labels-map-proj-v3.txt\", sep=' ', header=None, names=[\"Image\", \"Class_ID\"])\n",
        "labels_csv = labels_csv.merge(classmap_csv, how=\"inner\", on=\"Class_ID\")\n",
        "labels_csv"
      ],
      "metadata": {
        "colab": {
          "base_uri": "https://localhost:8080/",
          "height": 423
        },
        "id": "cgob-b5UCL1n",
        "outputId": "ff1f4da6-6c15-4c71-aad3-46385b7e6fa6"
      },
      "execution_count": null,
      "outputs": [
        {
          "output_type": "execute_result",
          "data": {
            "text/plain": [
              "                                   Image  Class_ID   Class_Name\n",
              "0           ESP_011623_2100_RED-0069.jpg         0        other\n",
              "1       ESP_011623_2100_RED-0069-r90.jpg         0        other\n",
              "2      ESP_011623_2100_RED-0069-r180.jpg         0        other\n",
              "3      ESP_011623_2100_RED-0069-r270.jpg         0        other\n",
              "4        ESP_011623_2100_RED-0069-fh.jpg         0        other\n",
              "...                                  ...       ...          ...\n",
              "73026  ESP_016758_2570_RED-0037-r180.jpg         4  bright dune\n",
              "73027  ESP_016758_2570_RED-0037-r270.jpg         4  bright dune\n",
              "73028    ESP_016758_2570_RED-0037-fh.jpg         4  bright dune\n",
              "73029    ESP_016758_2570_RED-0037-fv.jpg         4  bright dune\n",
              "73030   ESP_016758_2570_RED-0037-brt.jpg         4  bright dune\n",
              "\n",
              "[73031 rows x 3 columns]"
            ],
            "text/html": [
              "\n",
              "  <div id=\"df-fd8b4aad-6416-4918-b739-06c5c07ed156\">\n",
              "    <div class=\"colab-df-container\">\n",
              "      <div>\n",
              "<style scoped>\n",
              "    .dataframe tbody tr th:only-of-type {\n",
              "        vertical-align: middle;\n",
              "    }\n",
              "\n",
              "    .dataframe tbody tr th {\n",
              "        vertical-align: top;\n",
              "    }\n",
              "\n",
              "    .dataframe thead th {\n",
              "        text-align: right;\n",
              "    }\n",
              "</style>\n",
              "<table border=\"1\" class=\"dataframe\">\n",
              "  <thead>\n",
              "    <tr style=\"text-align: right;\">\n",
              "      <th></th>\n",
              "      <th>Image</th>\n",
              "      <th>Class_ID</th>\n",
              "      <th>Class_Name</th>\n",
              "    </tr>\n",
              "  </thead>\n",
              "  <tbody>\n",
              "    <tr>\n",
              "      <th>0</th>\n",
              "      <td>ESP_011623_2100_RED-0069.jpg</td>\n",
              "      <td>0</td>\n",
              "      <td>other</td>\n",
              "    </tr>\n",
              "    <tr>\n",
              "      <th>1</th>\n",
              "      <td>ESP_011623_2100_RED-0069-r90.jpg</td>\n",
              "      <td>0</td>\n",
              "      <td>other</td>\n",
              "    </tr>\n",
              "    <tr>\n",
              "      <th>2</th>\n",
              "      <td>ESP_011623_2100_RED-0069-r180.jpg</td>\n",
              "      <td>0</td>\n",
              "      <td>other</td>\n",
              "    </tr>\n",
              "    <tr>\n",
              "      <th>3</th>\n",
              "      <td>ESP_011623_2100_RED-0069-r270.jpg</td>\n",
              "      <td>0</td>\n",
              "      <td>other</td>\n",
              "    </tr>\n",
              "    <tr>\n",
              "      <th>4</th>\n",
              "      <td>ESP_011623_2100_RED-0069-fh.jpg</td>\n",
              "      <td>0</td>\n",
              "      <td>other</td>\n",
              "    </tr>\n",
              "    <tr>\n",
              "      <th>...</th>\n",
              "      <td>...</td>\n",
              "      <td>...</td>\n",
              "      <td>...</td>\n",
              "    </tr>\n",
              "    <tr>\n",
              "      <th>73026</th>\n",
              "      <td>ESP_016758_2570_RED-0037-r180.jpg</td>\n",
              "      <td>4</td>\n",
              "      <td>bright dune</td>\n",
              "    </tr>\n",
              "    <tr>\n",
              "      <th>73027</th>\n",
              "      <td>ESP_016758_2570_RED-0037-r270.jpg</td>\n",
              "      <td>4</td>\n",
              "      <td>bright dune</td>\n",
              "    </tr>\n",
              "    <tr>\n",
              "      <th>73028</th>\n",
              "      <td>ESP_016758_2570_RED-0037-fh.jpg</td>\n",
              "      <td>4</td>\n",
              "      <td>bright dune</td>\n",
              "    </tr>\n",
              "    <tr>\n",
              "      <th>73029</th>\n",
              "      <td>ESP_016758_2570_RED-0037-fv.jpg</td>\n",
              "      <td>4</td>\n",
              "      <td>bright dune</td>\n",
              "    </tr>\n",
              "    <tr>\n",
              "      <th>73030</th>\n",
              "      <td>ESP_016758_2570_RED-0037-brt.jpg</td>\n",
              "      <td>4</td>\n",
              "      <td>bright dune</td>\n",
              "    </tr>\n",
              "  </tbody>\n",
              "</table>\n",
              "<p>73031 rows × 3 columns</p>\n",
              "</div>\n",
              "      <button class=\"colab-df-convert\" onclick=\"convertToInteractive('df-fd8b4aad-6416-4918-b739-06c5c07ed156')\"\n",
              "              title=\"Convert this dataframe to an interactive table.\"\n",
              "              style=\"display:none;\">\n",
              "        \n",
              "  <svg xmlns=\"http://www.w3.org/2000/svg\" height=\"24px\"viewBox=\"0 0 24 24\"\n",
              "       width=\"24px\">\n",
              "    <path d=\"M0 0h24v24H0V0z\" fill=\"none\"/>\n",
              "    <path d=\"M18.56 5.44l.94 2.06.94-2.06 2.06-.94-2.06-.94-.94-2.06-.94 2.06-2.06.94zm-11 1L8.5 8.5l.94-2.06 2.06-.94-2.06-.94L8.5 2.5l-.94 2.06-2.06.94zm10 10l.94 2.06.94-2.06 2.06-.94-2.06-.94-.94-2.06-.94 2.06-2.06.94z\"/><path d=\"M17.41 7.96l-1.37-1.37c-.4-.4-.92-.59-1.43-.59-.52 0-1.04.2-1.43.59L10.3 9.45l-7.72 7.72c-.78.78-.78 2.05 0 2.83L4 21.41c.39.39.9.59 1.41.59.51 0 1.02-.2 1.41-.59l7.78-7.78 2.81-2.81c.8-.78.8-2.07 0-2.86zM5.41 20L4 18.59l7.72-7.72 1.47 1.35L5.41 20z\"/>\n",
              "  </svg>\n",
              "      </button>\n",
              "      \n",
              "  <style>\n",
              "    .colab-df-container {\n",
              "      display:flex;\n",
              "      flex-wrap:wrap;\n",
              "      gap: 12px;\n",
              "    }\n",
              "\n",
              "    .colab-df-convert {\n",
              "      background-color: #E8F0FE;\n",
              "      border: none;\n",
              "      border-radius: 50%;\n",
              "      cursor: pointer;\n",
              "      display: none;\n",
              "      fill: #1967D2;\n",
              "      height: 32px;\n",
              "      padding: 0 0 0 0;\n",
              "      width: 32px;\n",
              "    }\n",
              "\n",
              "    .colab-df-convert:hover {\n",
              "      background-color: #E2EBFA;\n",
              "      box-shadow: 0px 1px 2px rgba(60, 64, 67, 0.3), 0px 1px 3px 1px rgba(60, 64, 67, 0.15);\n",
              "      fill: #174EA6;\n",
              "    }\n",
              "\n",
              "    [theme=dark] .colab-df-convert {\n",
              "      background-color: #3B4455;\n",
              "      fill: #D2E3FC;\n",
              "    }\n",
              "\n",
              "    [theme=dark] .colab-df-convert:hover {\n",
              "      background-color: #434B5C;\n",
              "      box-shadow: 0px 1px 3px 1px rgba(0, 0, 0, 0.15);\n",
              "      filter: drop-shadow(0px 1px 2px rgba(0, 0, 0, 0.3));\n",
              "      fill: #FFFFFF;\n",
              "    }\n",
              "  </style>\n",
              "\n",
              "      <script>\n",
              "        const buttonEl =\n",
              "          document.querySelector('#df-fd8b4aad-6416-4918-b739-06c5c07ed156 button.colab-df-convert');\n",
              "        buttonEl.style.display =\n",
              "          google.colab.kernel.accessAllowed ? 'block' : 'none';\n",
              "\n",
              "        async function convertToInteractive(key) {\n",
              "          const element = document.querySelector('#df-fd8b4aad-6416-4918-b739-06c5c07ed156');\n",
              "          const dataTable =\n",
              "            await google.colab.kernel.invokeFunction('convertToInteractive',\n",
              "                                                     [key], {});\n",
              "          if (!dataTable) return;\n",
              "\n",
              "          const docLinkHtml = 'Like what you see? Visit the ' +\n",
              "            '<a target=\"_blank\" href=https://colab.research.google.com/notebooks/data_table.ipynb>data table notebook</a>'\n",
              "            + ' to learn more about interactive tables.';\n",
              "          element.innerHTML = '';\n",
              "          dataTable['output_type'] = 'display_data';\n",
              "          await google.colab.output.renderOutput(dataTable, element);\n",
              "          const docLink = document.createElement('div');\n",
              "          docLink.innerHTML = docLinkHtml;\n",
              "          element.appendChild(docLink);\n",
              "        }\n",
              "      </script>\n",
              "    </div>\n",
              "  </div>\n",
              "  "
            ]
          },
          "metadata": {},
          "execution_count": 4
        }
      ]
    },
    {
      "cell_type": "markdown",
      "source": [],
      "metadata": {
        "id": "2x3TK5XMOIQ1"
      }
    },
    {
      "cell_type": "code",
      "source": [
        "ax = labels_csv.Class_Name.value_counts().plot.bar(rot=20, title=\"ImageCount per Class\")\n",
        "for p in ax.patches:\n",
        "    ax.annotate(str(p.get_height()), xy=(p.get_x(), p.get_height()+500))"
      ],
      "metadata": {
        "colab": {
          "base_uri": "https://localhost:8080/",
          "height": 304
        },
        "id": "Rcj8zPkAFR2z",
        "outputId": "243873b4-7946-40ed-9121-2c6c339eb62d"
      },
      "execution_count": null,
      "outputs": [
        {
          "output_type": "display_data",
          "data": {
            "text/plain": [
              "<Figure size 432x288 with 1 Axes>"
            ],
            "image/png": "[encoded data removed]"
          },
          "metadata": {
            "needs_background": "light"
          }
        }
      ]
    },
    {
      "cell_type": "markdown",
      "source": [],
      "metadata": {
        "id": "PisRzSUKOK1p"
      }
    },
    {
      "cell_type": "code",
      "source": [
        "# https://matplotlib.org/stable/tutorials/introductory/images.html#sphx-glr-tutorials-introductory-images-py\n",
        "# https://matplotlib.org/stable/gallery/animation/animated_histogram.html#sphx-glr-gallery-animation-animated-histogram-py"
      ],
      "metadata": {
        "id": "fCue5po4G8Sn"
      },
      "execution_count": null,
      "outputs": []
    }
  ]
}