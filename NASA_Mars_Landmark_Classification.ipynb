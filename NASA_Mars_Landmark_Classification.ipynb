{
  "nbformat": 4,
  "nbformat_minor": 0,
  "metadata": {
    "colab": {
      "provenance": [],
      "collapsed_sections": [],
      "authorship_tag": "ABX9TyMED46XjVn/k9R+wPpDnR01"
    },
    "kernelspec": {
      "name": "python3",
      "display_name": "Python 3"
    },
    "language_info": {
      "name": "python"
    }
  },
  "cells": [
    {
      "cell_type": "markdown",
      "source": [
        "[![Colab](https://colab.research.google.com/assets/colab-badge.svg)](https://colab.research.google.com/github/markbozsoki/ColabNotebooks/blob/main/NASA_Mars_Landmark_Classification.ipynb)\n",
        "[![GitHub](https://badgen.net/badge/icon/Open%20in%20GitHub?icon=github&label)](https://github.com/markbozsoki/ColabNotebooks/blob/main/NASA_Mars_Landmark_Classification.ipynb)"
      ],
      "metadata": {
        "id": "lGh4YBTXO8if"
      }
    },
    {
      "cell_type": "markdown",
      "source": [
        "<h1>Marsi domborzati elemek osztályozása<h1>\n",
        "\n",
        "###Adatállomány:\n",
        "_NASA Mars Landmarks Classification_\n",
        "\n",
        "[![kaggle](https://img.shields.io/badge/Kaggle-20BEFF?style=for-the-badge&logo=Kaggle&logoColor=white)](https://www.kaggle.com/datasets/sshikamaru/mars-landmarks)\n",
        "[![DOI](https://zenodo.org/badge/DOI/10.5281/zenodo.4002935.svg)](https://doi.org/10.5281/zenodo.4002935)\n",
        "\n",
        "\n",
        "###Kapcsolódó publikáció:\n",
        "_Kiri L. Wagstaff, You Lu, Alice Stanboli, Kevin Grimes, Thamme Gowda, and Jordan Padams. \"Deep Mars: CNN Classification of Mars Imagery for the PDS Imaging Atlas.\" Proceedings of the Thirtieth Annual Conference on Innovative Applications of Artificial Intelligence, 2018._\n",
        "\n",
        "[![DOI](https://zenodo.org/badge/DOI/10.1609/aaai.v32i1.11404.svg)](https://ojs.aaai.org/index.php/AAAI/article/view/11404)\n"
      ],
      "metadata": {
        "id": "dk4FvYGQ6B-2"
      }
    },
    {
      "cell_type": "markdown",
      "source": [
        "#Bevezetés\n",
        "\n"
      ],
      "metadata": {
        "id": "SnZh9nR6mbNz"
      }
    },
    {
      "cell_type": "markdown",
      "source": [
        "https://en.wikipedia.org/wiki/HiRISE\n",
        "\n",
        "https://en.wikipedia.org/wiki/Mars_Reconnaissance_Orbiter"
      ],
      "metadata": {
        "id": "IxshZobNlYFh"
      }
    },
    {
      "cell_type": "markdown",
      "source": [
        "Az általam vizsgált adatállomány betöltését a Kaggle API-ra kapcsolódva oldottam meg.\n",
        "A következő kórrészlet letölti és kicsomagolja az adatállományt."
      ],
      "metadata": {
        "id": "JlksHFsGNLSb"
      }
    },
    {
      "cell_type": "code",
      "source": [
        "# DATA ACCESS\n",
        "\n",
        "print(\"Initializing Kaggle...\")\n",
        "!pip install -q kaggle\n",
        "!mkdir -p ~/.kaggle\n",
        "\n",
        "print(\"\\nInitializing Kaggle API access...\")\n",
        "!pip install --upgrade --no-cache-dir -q gdown\n",
        "!gdown 1m1sgCgeHHtjeeTtSKjZmFg-CRnuEIEHL -q --output ~/.kaggle/kaggle.json\n",
        "!chmod 600 ~/.kaggle/kaggle.json\n",
        "\n",
        "print(\"\")\n",
        "!kaggle datasets download --force -d sshikamaru/mars-landmarks\n",
        "\n",
        "print(\"\\nUnzipping mars-landmarks.zip to /content/mars-landmarks\")\n",
        "!unzip -q -o mars-landmarks.zip -d mars-landmarks\n",
        "\n",
        "print(\"\\nRemoving mars-landmarks.zip\")\n",
        "!rm mars-landmarks.zip\n",
        "\n",
        "print(\"\\nDone!\")"
      ],
      "metadata": {
        "id": "Sxh3jszqVjR2",
        "outputId": "b1f7755d-737d-45e1-ae39-4a17f01c40f9",
        "colab": {
          "base_uri": "https://localhost:8080/"
        }
      },
      "execution_count": null,
      "outputs": [
        {
          "output_type": "stream",
          "name": "stdout",
          "text": [
            "Initializing Kaggle...\n",
            "\n",
            "Initializing Kaggle API access...\n",
            "  Installing build dependencies ... \u001b[?25l\u001b[?25hdone\n",
            "  Getting requirements to build wheel ... \u001b[?25l\u001b[?25hdone\n",
            "    Preparing wheel metadata ... \u001b[?25l\u001b[?25hdone\n",
            "  Building wheel for gdown (PEP 517) ... \u001b[?25l\u001b[?25hdone\n",
            "\n",
            "Downloading mars-landmarks.zip to /content\n",
            " 99% 930M/940M [00:05<00:00, 188MB/s]\n",
            "100% 940M/940M [00:05<00:00, 189MB/s]\n",
            "\n",
            "Unzipping mars-landmarks.zip to /content/mars-landmarks\n",
            "\n",
            "Removing mars-landmarks.zip\n",
            "\n",
            "Done!\n"
          ]
        }
      ]
    },
    {
      "cell_type": "markdown",
      "source": [
        "---"
      ],
      "metadata": {
        "id": "-24Bxw4nv2Bn"
      }
    },
    {
      "cell_type": "code",
      "execution_count": null,
      "metadata": {
        "id": "nebhqJyn5r6C"
      },
      "outputs": [],
      "source": [
        "# IMPORTS\n",
        "\n",
        "import pandas as pd\n",
        "import numpy as np\n",
        "import tensorflow as tf\n",
        "import matplotlib.pyplot as plt\n",
        "import matplotlib.image as mpimg\n",
        "\n",
        "from collections import Counter"
      ]
    },
    {
      "cell_type": "markdown",
      "source": [
        "A képek a következő osztályokba vannak kklasszifikálva:"
      ],
      "metadata": {
        "id": "HM9kHDFkNJVb"
      }
    },
    {
      "cell_type": "code",
      "source": [
        "classmap_csv = pd.read_csv(\"mars-landmarks/landmarks_map-proj-v3_classmap.csv\", header=None, names=[\"Class_ID\", \"Class_Name\"])\n",
        "classmap_csv"
      ],
      "metadata": {
        "colab": {
          "base_uri": "https://localhost:8080/",
          "height": 300
        },
        "id": "Qv8Cfn5V7ucR",
        "outputId": "fa09f2c6-eec8-4cfe-df13-3843f7ecce89"
      },
      "execution_count": null,
      "outputs": [
        {
          "output_type": "execute_result",
          "data": {
            "text/plain": [
              "   Class_ID     Class_Name\n",
              "0         0          other\n",
              "1         1         crater\n",
              "2         2      dark dune\n",
              "3         3   slope streak\n",
              "4         4    bright dune\n",
              "5         5  impact ejecta\n",
              "6         6   swiss cheese\n",
              "7         7         spider"
            ],
            "text/html": [
              "\n",
              "  <div id=\"df-0cfc4a6b-1f8b-44ec-9f95-58d154c5832a\">\n",
              "    <div class=\"colab-df-container\">\n",
              "      <div>\n",
              "<style scoped>\n",
              "    .dataframe tbody tr th:only-of-type {\n",
              "        vertical-align: middle;\n",
              "    }\n",
              "\n",
              "    .dataframe tbody tr th {\n",
              "        vertical-align: top;\n",
              "    }\n",
              "\n",
              "    .dataframe thead th {\n",
              "        text-align: right;\n",
              "    }\n",
              "</style>\n",
              "<table border=\"1\" class=\"dataframe\">\n",
              "  <thead>\n",
              "    <tr style=\"text-align: right;\">\n",
              "      <th></th>\n",
              "      <th>Class_ID</th>\n",
              "      <th>Class_Name</th>\n",
              "    </tr>\n",
              "  </thead>\n",
              "  <tbody>\n",
              "    <tr>\n",
              "      <th>0</th>\n",
              "      <td>0</td>\n",
              "      <td>other</td>\n",
              "    </tr>\n",
              "    <tr>\n",
              "      <th>1</th>\n",
              "      <td>1</td>\n",
              "      <td>crater</td>\n",
              "    </tr>\n",
              "    <tr>\n",
              "      <th>2</th>\n",
              "      <td>2</td>\n",
              "      <td>dark dune</td>\n",
              "    </tr>\n",
              "    <tr>\n",
              "      <th>3</th>\n",
              "      <td>3</td>\n",
              "      <td>slope streak</td>\n",
              "    </tr>\n",
              "    <tr>\n",
              "      <th>4</th>\n",
              "      <td>4</td>\n",
              "      <td>bright dune</td>\n",
              "    </tr>\n",
              "    <tr>\n",
              "      <th>5</th>\n",
              "      <td>5</td>\n",
              "      <td>impact ejecta</td>\n",
              "    </tr>\n",
              "    <tr>\n",
              "      <th>6</th>\n",
              "      <td>6</td>\n",
              "      <td>swiss cheese</td>\n",
              "    </tr>\n",
              "    <tr>\n",
              "      <th>7</th>\n",
              "      <td>7</td>\n",
              "      <td>spider</td>\n",
              "    </tr>\n",
              "  </tbody>\n",
              "</table>\n",
              "</div>\n",
              "      <button class=\"colab-df-convert\" onclick=\"convertToInteractive('df-0cfc4a6b-1f8b-44ec-9f95-58d154c5832a')\"\n",
              "              title=\"Convert this dataframe to an interactive table.\"\n",
              "              style=\"display:none;\">\n",
              "        \n",
              "  <svg xmlns=\"http://www.w3.org/2000/svg\" height=\"24px\"viewBox=\"0 0 24 24\"\n",
              "       width=\"24px\">\n",
              "    <path d=\"M0 0h24v24H0V0z\" fill=\"none\"/>\n",
              "    <path d=\"M18.56 5.44l.94 2.06.94-2.06 2.06-.94-2.06-.94-.94-2.06-.94 2.06-2.06.94zm-11 1L8.5 8.5l.94-2.06 2.06-.94-2.06-.94L8.5 2.5l-.94 2.06-2.06.94zm10 10l.94 2.06.94-2.06 2.06-.94-2.06-.94-.94-2.06-.94 2.06-2.06.94z\"/><path d=\"M17.41 7.96l-1.37-1.37c-.4-.4-.92-.59-1.43-.59-.52 0-1.04.2-1.43.59L10.3 9.45l-7.72 7.72c-.78.78-.78 2.05 0 2.83L4 21.41c.39.39.9.59 1.41.59.51 0 1.02-.2 1.41-.59l7.78-7.78 2.81-2.81c.8-.78.8-2.07 0-2.86zM5.41 20L4 18.59l7.72-7.72 1.47 1.35L5.41 20z\"/>\n",
              "  </svg>\n",
              "      </button>\n",
              "      \n",
              "  <style>\n",
              "    .colab-df-container {\n",
              "      display:flex;\n",
              "      flex-wrap:wrap;\n",
              "      gap: 12px;\n",
              "    }\n",
              "\n",
              "    .colab-df-convert {\n",
              "      background-color: #E8F0FE;\n",
              "      border: none;\n",
              "      border-radius: 50%;\n",
              "      cursor: pointer;\n",
              "      display: none;\n",
              "      fill: #1967D2;\n",
              "      height: 32px;\n",
              "      padding: 0 0 0 0;\n",
              "      width: 32px;\n",
              "    }\n",
              "\n",
              "    .colab-df-convert:hover {\n",
              "      background-color: #E2EBFA;\n",
              "      box-shadow: 0px 1px 2px rgba(60, 64, 67, 0.3), 0px 1px 3px 1px rgba(60, 64, 67, 0.15);\n",
              "      fill: #174EA6;\n",
              "    }\n",
              "\n",
              "    [theme=dark] .colab-df-convert {\n",
              "      background-color: #3B4455;\n",
              "      fill: #D2E3FC;\n",
              "    }\n",
              "\n",
              "    [theme=dark] .colab-df-convert:hover {\n",
              "      background-color: #434B5C;\n",
              "      box-shadow: 0px 1px 3px 1px rgba(0, 0, 0, 0.15);\n",
              "      filter: drop-shadow(0px 1px 2px rgba(0, 0, 0, 0.3));\n",
              "      fill: #FFFFFF;\n",
              "    }\n",
              "  </style>\n",
              "\n",
              "      <script>\n",
              "        const buttonEl =\n",
              "          document.querySelector('#df-0cfc4a6b-1f8b-44ec-9f95-58d154c5832a button.colab-df-convert');\n",
              "        buttonEl.style.display =\n",
              "          google.colab.kernel.accessAllowed ? 'block' : 'none';\n",
              "\n",
              "        async function convertToInteractive(key) {\n",
              "          const element = document.querySelector('#df-0cfc4a6b-1f8b-44ec-9f95-58d154c5832a');\n",
              "          const dataTable =\n",
              "            await google.colab.kernel.invokeFunction('convertToInteractive',\n",
              "                                                     [key], {});\n",
              "          if (!dataTable) return;\n",
              "\n",
              "          const docLinkHtml = 'Like what you see? Visit the ' +\n",
              "            '<a target=\"_blank\" href=https://colab.research.google.com/notebooks/data_table.ipynb>data table notebook</a>'\n",
              "            + ' to learn more about interactive tables.';\n",
              "          element.innerHTML = '';\n",
              "          dataTable['output_type'] = 'display_data';\n",
              "          await google.colab.output.renderOutput(dataTable, element);\n",
              "          const docLink = document.createElement('div');\n",
              "          docLink.innerHTML = docLinkHtml;\n",
              "          element.appendChild(docLink);\n",
              "        }\n",
              "      </script>\n",
              "    </div>\n",
              "  </div>\n",
              "  "
            ]
          },
          "metadata": {},
          "execution_count": 3
        }
      ]
    },
    {
      "cell_type": "markdown",
      "source": [
        "HiRISE (orbital) image classes"
      ],
      "metadata": {
        "id": "OWLPDOtqih-c"
      }
    },
    {
      "cell_type": "markdown",
      "source": [
        "![HiRISE (orbital) image classes.JPG](data:image/jpeg;base64,/9j/4AAQSkZJRgABAQEAYABgAAD/4RD0RXhpZgAATU0AKgAAAAgABAE7AAIAAAAPAAAISodpAAQAAAABAAAIWpydAAEAAAAaAAAQ0uocAAcAAAgMAAAAPgAAAAAc6gAAAAgAAAAAAAAAAAAAAAAAAAAAAAAAAAAAAAAAAAAAAAAAAAAAAAAAAAAAAAAAAAAAAAAAAAAAAAAAAAAAAAAAAAAAAAAAAAAAAAAAAAAAAAAAAAAAAAAAAAAAAAAAAAAAAAAAAAAAAAAAAAAAAAAAAAAAAAAAAAAAAAAAAAAAAAAAAAAAAAAAAAAAAAAAAAAAAAAAAAAAAAAAAAAAAAAAAAAAAAAAAAAAAAAAAAAAAAAAAAAAAAAAAAAAAAAAAAAAAAAAAAAAAAAAAAAAAAAAAAAAAAAAAAAAAAAAAAAAAAAAAAAAAAAAAAAAAAAAAAAAAAAAAAAAAAAAAAAAAAAAAAAAAAAAAAAAAAAAAAAAAAAAAAAAAAAAAAAAAAAAAAAAAAAAAAAAAAAAAAAAAAAAAAAAAAAAAAAAAAAAAAAAAAAAAAAAAAAAAAAAAAAAAAAAAAAAAAAAAAAAAAAAAAAAAAAAAAAAAAAAAAAAAAAAAAAAAAAAAAAAAAAAAAAAAAAAAAAAAAAAAAAAAAAAAAAAAAAAAAAAAAAAAAAAAAAAAAAAAAAAAAAAAAAAAAAAAAAAAAAAAAAAAAAAAAAAAAAAAAAAAAAAAAAAAAAAAAAAAAAAAAAAAAAAAAAAAAAAAAAAAAAAAAAAAAAAAAAAAAAAAAAAAAAAAAAAAAAAAAAAAAAAAAAAAAAAAAAAAAAAAAAAAAAAAAAAAAAAAAAAAAAAAAAAAAAAAAAAAAAAAAAAAAAAAAAAAAAAAAAAAAAAAAAAAAAAAAAAAAAAAAAAAAAAAAAAAAAAAAAAAAAAAAAAAAAAAAAAAAAAAAAAAAAAAAAAAAAAAAAAAAAAAAAAAAAAAAAAAAAAAAAAAAAAAAAAAAAAAAAAAAAAAAAAAAAAAAAAAAAAAAAAAAAAAAAAAAAAAAAAAAAAAAAAAAAAAAAAAAAAAAAAAAAAAAAAAAAAAAAAAAAAAAAAAAAAAAAAAAAAAAAAAAAAAAAAAAAAAAAAAAAAAAAAAAAAAAAAAAAAAAAAAAAAAAAAAAAAAAAAAAAAAAAAAAAAAAAAAAAAAAAAAAAAAAAAAAAAAAAAAAAAAAAAAAAAAAAAAAAAAAAAAAAAAAAAAAAAAAAAAAAAAAAAAAAAAAAAAAAAAAAAAAAAAAAAAAAAAAAAAAAAAAAAAAAAAAAAAAAAAAAAAAAAAAAAAAAAAAAAAAAAAAAAAAAAAAAAAAAAAAAAAAAAAAAAAAAAAAAAAAAAAAAAAAAAAAAAAAAAAAAAAAAAAAAAAAAAAAAAAAAAAAAAAAAAAAAAAAAAAAAAAAAAAAAAAAAAAAAAAAAAAAAAAAAAAAAAAAAAAAAAAAAAAAAAAAAAAAAAAAAAAAAAAAAAAAAAAAAAAAAAAAAAAAAAAAAAAAAAAAAAAAAAAAAAAAAAAAAAAAAAAAAAAAAAAAAAAAAAAAAAAAAAAAAAAAAAAAAAAAAAAAAAAAAAAAAAAAAAAAAAAAAAAAAAAAAAAAAAAAAAAAAAAAAAAAAAAAAAAAAAAAAAAAAAAAAAAAAAAAAAAAAAAAAAAAAAAAAAAAAAAAAAAAAAAAAAAAAAAAAAAAAAAAAAAAAAAAAAAAAAAAAAAAAAAAAAAAAAAAAAAAAAAAAAAAAAAAAAAAAAAAAAAAAAAAAAAAAAAAAAAAAAAAAAAAAAAAAAAAAAAAAAAAAAAAAAAAAAAAAAAAAAAAAAAAAAAAAAAAAAAAAAAAAAAAAAAAAAAAAAAAAAAAAAAAAAAAAAAAAAAAAAAAAAAAAAAAAAAAAAAAAAAAAAAAAAAAAAAAAAAAAAAAAAAAAAAAAAAAAAAAAAAAAAAAAAAAAAAAAAAAAAAAAAAAAAAAAAAAAAAAAAAAAAAAAAAAAAAAAAAAAAAAAAAAAAAAAAAAAAAAAAAAAAAAAAAAAAAAAAAAAAAAAAAAAAAAAAAAAAAAAAAAAAAAAAAAAAAAAAAAAAAAAAAAAAAAAAAAAAAAAAAAAAAAAAAAAAAAAAAAAAAAAAAAAAAAAAAAAAAAAAAAAAAAAAAAAAAAAAAAAAAAAAAAAAAAAAAAAAAAAAAAAAAAAAAAAAAAAAAAAAAAAAAAAAAAAAAAAAAAAAAAAAAAAAAAAAAAAAAAAAAAAAAAAAAAAAAAAAAAAAAAAAAAAAAAAAAAAAAAAAAAAAAAAAAAAAAAAAAAAAAAAAAAAAAAAAAAAAAAAAAAAAAAAAAAAAAAAAAAAAAAAAAAAAAAAAAAAAAAAAAAAAAAAAAAAAAAAAAAAAAAAAAAAAAAAAAAAAAAAAAAAAAAAAAAAAAAAAAAAAAAAAAAAAAAAAAAAAAAAAAAAAAAAAAAAAAAAAAAAAAAAAAAAAAAAAAAAAAAAAAAAAAAAAAAAAAAAAAAAAAAAAAAAAAAAAAAAAAAAAAAAAAAAAAAAAAAAAAAAAAAAAAAAAAAAAAAAAAAAAAAAAAAAAAAAAAAAAAAAAAAAAAAAAAAAAAAAAAAAAAAAAAAAAAAAAAAAAAAAAAAAAAAAAAAAAAAAAAAAAAAAAAAAAAAAAAAAAAAAAAAAAAAAAAAAAAAAAAAAAAAAAAAAAAAAAAAAAAAAAAAAAAAAAAAAAAAAAAAAAAAAAAAAAAAAAAAAAAAAAAAAAAAAAAAAAAAAAAAAAAAAAAAAAAAAAAAAAAAAAAAAAAAAAAAAAAAAAAAAAAAAAAAAAAAAAAAAAAAAAAAAAAAAAAAAAAAAAAAAAAAAAAAAAAAAAAEJvenPDs2tpIE3DoXJrAAAABZADAAIAAAAUAAAQqJAEAAIAAAAUAAAQvJKRAAIAAAADMzQAAJKSAAIAAAADMzQAAOocAAcAAAgMAAAInAAAAAAc6gAAAAgAAAAAAAAAAAAAAAAAAAAAAAAAAAAAAAAAAAAAAAAAAAAAAAAAAAAAAAAAAAAAAAAAAAAAAAAAAAAAAAAAAAAAAAAAAAAAAAAAAAAAAAAAAAAAAAAAAAAAAAAAAAAAAAAAAAAAAAAAAAAAAAAAAAAAAAAAAAAAAAAAAAAAAAAAAAAAAAAAAAAAAAAAAAAAAAAAAAAAAAAAAAAAAAAAAAAAAAAAAAAAAAAAAAAAAAAAAAAAAAAAAAAAAAAAAAAAAAAAAAAAAAAAAAAAAAAAAAAAAAAAAAAAAAAAAAAAAAAAAAAAAAAAAAAAAAAAAAAAAAAAAAAAAAAAAAAAAAAAAAAAAAAAAAAAAAAAAAAAAAAAAAAAAAAAAAAAAAAAAAAAAAAAAAAAAAAAAAAAAAAAAAAAAAAAAAAAAAAAAAAAAAAAAAAAAAAAAAAAAAAAAAAAAAAAAAAAAAAAAAAAAAAAAAAAAAAAAAAAAAAAAAAAAAAAAAAAAAAAAAAAAAAAAAAAAAAAAAAAAAAAAAAAAAAAAAAAAAAAAAAAAAAAAAAAAAAAAAAAAAAAAAAAAAAAAAAAAAAAAAAAAAAAAAAAAAAAAAAAAAAAAAAAAAAAAAAAAAAAAAAAAAAAAAAAAAAAAAAAAAAAAAAAAAAAAAAAAAAAAAAAAAAAAAAAAAAAAAAAAAAAAAAAAAAAAAAAAAAAAAAAAAAAAAAAAAAAAAAAAAAAAAAAAAAAAAAAAAAAAAAAAAAAAAAAAAAAAAAAAAAAAAAAAAAAAAAAAAAAAAAAAAAAAAAAAAAAAAAAAAAAAAAAAAAAAAAAAAAAAAAAAAAAAAAAAAAAAAAAAAAAAAAAAAAAAAAAAAAAAAAAAAAAAAAAAAAAAAAAAAAAAAAAAAAAAAAAAAAAAAAAAAAAAAAAAAAAAAAAAAAAAAAAAAAAAAAAAAAAAAAAAAAAAAAAAAAAAAAAAAAAAAAAAAAAAAAAAAAAAAAAAAAAAAAAAAAAAAAAAAAAAAAAAAAAAAAAAAAAAAAAAAAAAAAAAAAAAAAAAAAAAAAAAAAAAAAAAAAAAAAAAAAAAAAAAAAAAAAAAAAAAAAAAAAAAAAAAAAAAAAAAAAAAAAAAAAAAAAAAAAAAAAAAAAAAAAAAAAAAAAAAAAAAAAAAAAAAAAAAAAAAAAAAAAAAAAAAAAAAAAAAAAAAAAAAAAAAAAAAAAAAAAAAAAAAAAAAAAAAAAAAAAAAAAAAAAAAAAAAAAAAAAAAAAAAAAAAAAAAAAAAAAAAAAAAAAAAAAAAAAAAAAAAAAAAAAAAAAAAAAAAAAAAAAAAAAAAAAAAAAAAAAAAAAAAAAAAAAAAAAAAAAAAAAAAAAAAAAAAAAAAAAAAAAAAAAAAAAAAAAAAAAAAAAAAAAAAAAAAAAAAAAAAAAAAAAAAAAAAAAAAAAAAAAAAAAAAAAAAAAAAAAAAAAAAAAAAAAAAAAAAAAAAAAAAAAAAAAAAAAAAAAAAAAAAAAAAAAAAAAAAAAAAAAAAAAAAAAAAAAAAAAAAAAAAAAAAAAAAAAAAAAAAAAAAAAAAAAAAAAAAAAAAAAAAAAAAAAAAAAAAAAAAAAAAAAAAAAAAAAAAAAAAAAAAAAAAAAAAAAAAAAAAAAAAAAAAAAAAAAAAAAAAAAAAAAAAAAAAAAAAAAAAAAAAAAAAAAAAAAAAAAAAAAAAAAAAAAAAAAAAAAAAAAAAAAAAAAAAAAAAAAAAAAAAAAAAAAAAAAAAAAAAAAAAAAAAAAAAAAAAAAAAAAAAAAAAAAAAAAAAAAAAAAAAAAAAAAAAAAAAAAAAAAAAAAAAAAAAAAAAAAAAAAAAAAAAAAAAAAAAAAAAAAAAAAAAAAAAAAAAAAAAAAAAAAAAAAAAAAAAAAAAAAAAAAAAAAAAAAAAAAAAAAAAAAAAAAAAAAAAAAAAAAAAAAAAAAAAAAAAAAAAAAAAAAAAAAAAAAAAAAAAAAAAAAAAAAAAAAAAAAAAAAAAAAAAAAAAAAAAAAAAAAAAAAAAAAAAAAAAAAAAAAAAAAAAAAAAAAAAAAAAAAAAAAAAAAAAAAAAAAAAAAAAAAAAAAAAAAAAAAAAAAAAAAAAAAAAAAAAAAAAAAAAAAAAAAAAAAAAAAAAAAAAAAAAAAAAAAAAAAAAAAAAAAAAAAAAAAAAAAAAAAAAAAAAAAAAAAAAAAAAAAAAAAAAAAAAAAAAAAAAAAAAAAAAAAAAAAAAAAAAAAAAAAAAAAAAAAAAAAAAAAAAAAAAAAAAAAAAAAAAAAAAAAAAAAAAAAAAAAAAAAAAAAAAAAAAAAAAAAAAAAAAAAAAAAAAAAAAAAAAAAAAAAAAAAAAAAAAAAAAAAAAAAAAAAAAAAAAAAAAAAAAAAAAAAAAAAAAAAAAAAAAAAAAAAAAAAAAAAAAAAAAAAAAAAAAAAAAAAAAAAAAAAAAAAAAAAAAAAAAAAAAAAAAAAAAAAAAAAAAAAAAAAAAAAAAAAAAAAAAAAAAAAAAAAAAAAAAAAAAAAAAAAAAAAAAAAAAAAAAAAAAAAAAAAAAAAAAAAAAAAAAAAAAAAAAAAAAAAAAAAAAAAAAAAAAAAAAAAAAAAAAAAAAAAAAAAAAAAAAAAAAAAAAAAAAAAAAAAAAAAAAAAAAAAAAAAAAAAAAAAAAAAAAAAAAAAAAAAAAAAAAAAAAAAAAAAAAAAAAAAAAAAAAAAAAAAAAAAAAAAAAAAAAAAAAAAAAAAAAAAAAAAAAAAAADIwMjI6MTA6MjEgMTQ6MzM6NDIAMjAyMjoxMDoyMSAxNDozMzo0MgAAAEIAbwB6AHMA8wBrAGkAIABNAOEAcgBrAAAA/+ELIWh0dHA6Ly9ucy5hZG9iZS5jb20veGFwLzEuMC8APD94cGFja2V0IGJlZ2luPSfvu78nIGlkPSdXNU0wTXBDZWhpSHpyZVN6TlRjemtjOWQnPz4NCjx4OnhtcG1ldGEgeG1sbnM6eD0iYWRvYmU6bnM6bWV0YS8iPjxyZGY6UkRGIHhtbG5zOnJkZj0iaHR0cDovL3d3dy53My5vcmcvMTk5OS8wMi8yMi1yZGYtc3ludGF4LW5zIyI+PHJkZjpEZXNjcmlwdGlvbiByZGY6YWJvdXQ9InV1aWQ6ZmFmNWJkZDUtYmEzZC0xMWRhLWFkMzEtZDMzZDc1MTgyZjFiIiB4bWxuczpkYz0iaHR0cDovL3B1cmwub3JnL2RjL2VsZW1lbnRzLzEuMS8iLz48cmRmOkRlc2NyaXB0aW9uIHJkZjphYm91dD0idXVpZDpmYWY1YmRkNS1iYTNkLTExZGEtYWQzMS1kMzNkNzUxODJmMWIiIHhtbG5zOnhtcD0iaHR0cDovL25zLmFkb2JlLmNvbS94YXAvMS4wLyI+PHhtcDpDcmVhdGVEYXRlPjIwMjItMTAtMjFUMTQ6MzM6NDIuMzQwPC94bXA6Q3JlYXRlRGF0ZT48L3JkZjpEZXNjcmlwdGlvbj48cmRmOkRlc2NyaXB0aW9uIHJkZjphYm91dD0idXVpZDpmYWY1YmRkNS1iYTNkLTExZGEtYWQzMS1kMzNkNzUxODJmMWIiIHhtbG5zOmRjPSJodHRwOi8vcHVybC5vcmcvZGMvZWxlbWVudHMvMS4xLyI+PGRjOmNyZWF0b3I+PHJkZjpTZXEgeG1sbnM6cmRmPSJodHRwOi8vd3d3LnczLm9yZy8xOTk5LzAyLzIyLXJkZi1zeW50YXgtbnMjIj48cmRmOmxpPkJvenPDs2tpIE3DoXJrPC9yZGY6bGk+PC9yZGY6U2VxPg0KCQkJPC9kYzpjcmVhdG9yPjwvcmRmOkRlc2NyaXB0aW9uPjwvcmRmOlJERj48L3g6eG1wbWV0YT4NCiAgICAgICAgICAgICAgICAgICAgICAgICAgICAgICAgICAgICAgICAgICAgICAgICAgICAgICAgICAgICAgICAgICAgICAgICAgICAgICAgICAgICAgICAgICAgICAgICAgICAKICAgICAgICAgICAgICAgICAgICAgICAgICAgICAgICAgICAgICAgICAgICAgICAgICAgICAgICAgICAgICAgICAgICAgICAgICAgICAgICAgICAgICAgICAgICAgICAgICAgIAogICAgICAgICAgICAgICAgICAgICAgICAgICAgICAgICAgICAgICAgICAgICAgICAgICAgICAgICAgICAgICAgICAgICAgICAgICAgICAgICAgICAgICAgICAgICAgICAgICAgCiAgICAgICAgICAgICAgICAgICAgICAgICAgICAgICAgICAgICAgICAgICAgICAgICAgICAgICAgICAgICAgICAgICAgICAgICAgICAgICAgICAgICAgICAgICAgICAgICAgICAKICAgICAgICAgICAgICAgICAgICAgICAgICAgICAgICAgICAgICAgICAgICAgICAgICAgICAgICAgICAgICAgICAgICAgICAgICAgICAgICAgICAgICAgICAgICAgICAgICAgIAogICAgICAgICAgICAgICAgICAgICAgICAgICAgICAgICAgICAgICAgICAgICAgICAgICAgICAgICAgICAgICAgICAgICAgICAgICAgICAgICAgICAgICAgICAgICAgICAgICAgCiAgICAgICAgICAgICAgICAgICAgICAgICAgICAgICAgICAgICAgICAgICAgICAgICAgICAgICAgICAgICAgICAgICAgICAgICAgICAgICAgICAgICAgICAgICAgICAgICAgICAKICAgICAgICAgICAgICAgICAgICAgICAgICAgICAgICAgICAgICAgICAgICAgICAgICAgICAgICAgICAgICAgICAgICAgICAgICAgICAgICAgICAgICAgICAgICAgICAgICAgIAogICAgICAgICAgICAgICAgICAgICAgICAgICAgICAgICAgICAgICAgICAgICAgICAgICAgICAgICAgICAgICAgICAgICAgICAgICAgICAgICAgICAgICAgICAgICAgICAgICAgCiAgICAgICAgICAgICAgICAgICAgICAgICAgICAgICAgICAgICAgICAgICAgICAgICAgICAgICAgICAgICAgICAgICAgICAgICAgICAgICAgICAgICAgICAgICAgICAgICAgICAKICAgICAgICAgICAgICAgICAgICAgICAgICAgICAgICAgICAgICAgICAgICAgICAgICAgICAgICAgICAgICAgICAgICAgICAgICAgICAgICAgICAgICAgICAgICAgICAgICAgIAogICAgICAgICAgICAgICAgICAgICAgICAgICAgICAgICAgICAgICAgICAgICAgICAgICAgICAgICAgICAgICAgICAgICAgICAgICAgICAgICAgICAgICAgICAgICAgICAgICAgCiAgICAgICAgICAgICAgICAgICAgICAgICAgICAgICAgICAgICAgICAgICAgICAgICAgICAgICAgICAgICAgICAgICAgICAgICAgICAgICAgICAgICAgICAgICAgICAgICAgICAKICAgICAgICAgICAgICAgICAgICAgICAgICAgICAgICAgICAgICAgICAgICAgICAgICAgICAgICAgICAgICAgICAgICAgICAgICAgICAgICAgICAgICAgICAgICAgICAgICAgIAogICAgICAgICAgICAgICAgICAgICAgICAgICAgICAgICAgICAgICAgICAgICAgICAgICAgICAgICAgICAgICAgICAgICAgICAgICAgICAgICAgICAgICAgICAgICAgICAgICAgCiAgICAgICAgICAgICAgICAgICAgICAgICAgICAgICAgICAgICAgICAgICAgICAgICAgICAgICAgICAgICAgICAgICAgICAgICAgICAgICAgICAgICAgICAgICAgICAgICAgICAKICAgICAgICAgICAgICAgICAgICAgICAgICAgICAgICAgICAgICAgICAgICAgICAgICAgICAgICAgICAgICAgICAgICAgICAgICAgICAgICAgICAgICAgICAgICAgICAgICAgIAogICAgICAgICAgICAgICAgICAgICAgICAgICAgICAgICAgICAgICAgICAgICAgICAgICAgICAgICAgICAgICAgICAgICAgICAgICAgICAgICAgICAgICAgICAgICAgICAgICAgCiAgICAgICAgICAgICAgICAgICAgICAgICAgICAgICAgICAgICAgICAgICAgICAgICAgICAgICAgICAgICAgICAgICAgICAgICAgICAgICAgICAgICAgICAgICAgICAgICAgICAKICAgICAgICAgICAgICAgICAgICAgICAgICAgICAgICAgICAgICAgICAgICAgICAgICAgICAgICAgICAgICAgICAgICAgICAgICAgICAgICAgICAgICAgICAgICAgICAgICAgIAogICAgICAgICAgICAgICAgICAgICAgICAgICAgPD94cGFja2V0IGVuZD0ndyc/Pv/bAEMABwUFBgUEBwYFBggHBwgKEQsKCQkKFQ8QDBEYFRoZGBUYFxseJyEbHSUdFxgiLiIlKCkrLCsaIC8zLyoyJyorKv/bAEMBBwgICgkKFAsLFCocGBwqKioqKioqKioqKioqKioqKioqKioqKioqKioqKioqKioqKioqKioqKioqKioqKioqKv/AABEIALcDsQMBIgACEQEDEQH/xAAfAAABBQEBAQEBAQAAAAAAAAAAAQIDBAUGBwgJCgv/xAC1EAACAQMDAgQDBQUEBAAAAX0BAgMABBEFEiExQQYTUWEHInEUMoGRoQgjQrHBFVLR8CQzYnKCCQoWFxgZGiUmJygpKjQ1Njc4OTpDREVGR0hJSlNUVVZXWFlaY2RlZmdoaWpzdHV2d3h5eoOEhYaHiImKkpOUlZaXmJmaoqOkpaanqKmqsrO0tba3uLm6wsPExcbHyMnK0tPU1dbX2Nna4eLj5OXm5+jp6vHy8/T19vf4+fr/xAAfAQADAQEBAQEBAQEBAAAAAAAAAQIDBAUGBwgJCgv/xAC1EQACAQIEBAMEBwUEBAABAncAAQIDEQQFITEGEkFRB2FxEyIygQgUQpGhscEJIzNS8BVictEKFiQ04SXxFxgZGiYnKCkqNTY3ODk6Q0RFRkdISUpTVFVWV1hZWmNkZWZnaGlqc3R1dnd4eXqCg4SFhoeIiYqSk5SVlpeYmZqio6Slpqeoqaqys7S1tre4ubrCw8TFxsfIycrS09TV1tfY2dri4+Tl5ufo6ery8/T19vf4+fr/2gAMAwEAAhEDEQA/APdvFfiP/hGNKivDa/afMnEWzzNmMqxznB/u1yX/AAtttuf7D6df9L6f+OVofFfP/CKW+Bn/AE1f/QHryOKVon2ryCOfpTEeiL8Zd0hX+wencXn/ANhUq/F/cM/2Hx/19/8A2FeYSxBJjLEODywFPR8/d+tOwHqKfFncwB0XHv8Aa/8A7CodY+MP9kXVpG2h+al0pKyfbNuCO2NleeBgEwv3gc/WtCb7NqOmrbXsSybDlWPBU+xosB6PpXxKi1O1mmbTxB5cZYA3GdxA6fdFZa/GAtnOhbSPW7/+wrgPL8m1EcO5FUZIJ+9UTR/usoAy96LAejf8LfxndoeDjobv/wCwpV+Lu7cP7FAIGQDd9f8AxyvNpwQcKcqeme1LGu3HPWiwHpA+Lv7ss2iYI7fa/wD7CmN8X2UA/wBhZHfF50/8crzsDJYN+NRlTs2/eAOQaLAenP8AFnZEsn9i5Un/AJ++n/jlRn4vjzNq6Jn/ALe//sK8/wBiyWRALAN1NZsnC+pVuCDRYD05vjGFUk6HxnGftf8A9hQPjJn/AJgX/k5/9hXl5JMZDHqc0IwGO/NID1H/AIXF8uf7C/8AJz/7Cg/GLCqRoec/9PnT/wAcrzL7vI78n2pobHXlccU7Aen/APC4eMnQ/wDyb/8AsK3vCfjz/hKdVlshp32Xy4DLv8/fnDKMY2j+9+leJKfXiu9+EoA8VXPqbJ//AENKQHoM/ibyLySBrTIRyu7zeuDjpimHxWoPFpn/ALa//WrBv8SapeYfOJ3B9juqnKroflDMT0xQB1S+Kw3/AC5/+Rf/AK1RyeLjE2HsMfSb/wCxrnLdXU/vARViUNJavuX5lHAoA3v+EtAXLWePbzf/AK1NHi3IJ+xDaO/nf/Y1zYOEXd6cjvTZ024IOQeMGgDoH8bIjYFlkevnf/Y1PF4tEo4tMf8AbX/61cnPBtiG35D2HrS20wDEDGR1xQB08/jLyHCtYd8f67/7GpB4sJ+7Y5GM/wCt/wDsa5uaRHIyPmHc96ltgWY44J6DNAG0njMt10/H/bb/AOxqUeLl4zZ4z0/e/wD1q5TDLeSKQNw5wOadI+0DcvAOR7UAdTN4saIDbY7yTwBN/wDY0i+LWK5ewKfWX/61c0twvYfjT47hGXDZOOME0AdG/izauVstzZ+753/1qRPFkjH5tOKj187/AOxrl5gVm3K2R29qnSUMw3Ng4xmgDoj4sZVcvYFdv/TXr+lRx+Mg65ax2fWb/wCxrDl+UgA+YMZ60yQAW7MCpA6DHSgDoE8ZI77fsf4+b/8AWqx4i8TjQNCttS+yfaPtEiII/N2Y3KWznB9PSuPRVG0scHuK0fiDz4D0zHP76LH/AH6agCt/wtn5yv8AYvT/AKe//sKG+LO0H/iS5/7ev/sK85G4SHBpdwK807Ad7L8ZPL/5gWf+3z/7Cok+NLPn/insY/6ff/tdebz/ADSHIxUWcA4HeiwHpZ+NmCQ3h/GP+n3/AO10j/G1hEXTw9ux2+3Yz/5Drye9mCLuPHtUNtfpI2zH4UgPSZP2hpI2IPhTp/1Ef/tVSJ+0HmIO/hjYP+wh/wDa685+zxSHLoBnrWXq1qsUbbejdKBnqlz+0bHBjZ4a8zj/AJ/8f+06u6f8ejf2om/4Rvy8np9uz/7Tr53dGeTYMk9K7bSbYW2nRRt1xyKAPV/+F4vn/kW+PX7f/wDa6mX42E4z4fwf+v3/AO115Vtw38qkVM5J65oEemS/HGSPp4a3D/r/AP8A7XTU+Obt18N4/wC37/7XXm7xDZULIF5FAHqY+NzN08O/+T3/ANrpR8bc/wDMv4/7ff8A7XXlg+Ujv9KULlgWoA9VHxpz/wAwD/yc/wDsKf8A8LmO7/kA/wDk5/8AYV5UuVYbTnNTqucHBPNFgPbPCPj/AP4SrWJLH+zPsmy3M2/z9+cMoxjaP73X2qW98dfY7+4tv7O3+TI0e7z8ZwcZxtri/hID/wAJZckj/lxcf+REqfWh/wAT2/8A+vmT/wBCNAHT/wDCwv8AqGf+TH/2NL/wsD/qG/8Akx/9jXE5IFLnmnYDtf8AhP8A/qG/+TH/ANjQfiBj/mG/+R//ALGuMBoxRYDsv+Fg/wDUM/8AJj/7Gl/4WB/1DP8AyY/+xri8Y6U6iwHZjx/n/mG/+R//ALGj/hP/APqG/wDkf/7GuNHSlPtRYDrW+IRX/mF/+TH/ANjSL8RVJw2mY/7b/wD2Ncl14NQvED0osB3I8fZGf7O/8j//AGNL/wAJ566d/wCR/wD7GuDVnjPHSrEdwG4JwfeiwHaf8J7/ANQ7/wAj/wD2NH/Cef8AUO/8j/8A2NcduBoB5osB2X/Cd/8AUO/8j/8A2NH/AAnf/UO/8j//AGNcgD60E+tFgOv/AOE6/wCod/5H/wDsaQ+PMf8AMN/8j/8A2NchmjdRYDvrvxV9l8OW2qmz3efKY/K83G373Ocf7Pp3qnH45V4DI1iFA6Zn6/8AjtZWsMq/DfTy3/PycY9f3lchITNCilioBB60gPQW8eBbVpzp/wAoOB+/6/8AjtVx8Rsx7xpf4faP/sa4co8qBJJMoDkDNPt9oUoTuenYDtx8Q/XS8f8Abx/9jSj4gnAP9l8H/p4/+xrjcf3h7Zp4G5go7UWA7RfHm7GNN/8AI/8A9jUqeNQxx9gx/wBtv/sa4+OMryalUbRn9aAOzXxYGH/Hn/5F/wDrU4eKc/8ALn/5F/8ArVyqSDHFKJ+wNIDsYdeEqlmtwiqMkmT/AOtWHefEWO2mKRaf5oB6+ft/9lrG1C/aGx2qcFutcm7mSQknvRYDvf8AhZv/AFCP/Jn/AOwpG+JuBxpOT6faf/sK4YrkVFzup2A7lfipnh9G2n0+1f8A2FI/xV2DJ0b/AMmv/sK4OVPn9xSBc/e5osB3yfFTd/zBsZ/6ev8A7CpG+J+1cnSP/Jn/AOwrzzAjYbaHYucCiwHoX/C0OP8AkD/+TP8A9hV/QvH39t61Bp/9m+T5u7955+7GFLdNo9K8yOBDz1xW94EAHjCx9f3n/otqAOyvfHP2O+uLb+zt/kyNHu8/G7Bxn7tVB8SM/wDMK/8AJj/7Gud1zjWr/wBftMmP++jWSKLAd2vxDz/zC/8AyY/+xqRfH2f+Yb/5H/8Asa4VDgVZjJGQaLAdqvjnP/MOx/23/wDsaePG2f8AmH/+Rv8A7GuPQ5qZaLAdM/jrY2P7Oz/23/8AsaZ/wn3X/iW9P+m//wBjXMzIeT1qowosBp+LvjI3hbTIrweHzdrJL5ZH2zZt4JznYfSuP/4ai/6lD/yp/wD2qsv4oReZ4JkbH+rnjfr7kf8As1eJ0mUj6A/4ai/6lD/yp/8A2qj/AIai/wCpQ/8AKn/9qr5/opDsfQH/AA1F/wBSh/5U/wD7VR/w1F/1KH/lT/8AtVfP9FAWPoD/AIai/wCpQ/8AKn/9qo/4ai/6lD/yp/8A2qvn+igLH0B/w1F/1KH/AJU//tVH/DUX/Uof+VP/AO1V8/0UBY+gP+Gov+pQ/wDKn/8Aaq9f8DeKP+E08F2Ov/Y/sX2vzP3Hm+Zs2SMn3sDOdueneviCvr/4G/8AJGNC/wC3j/0okoEz0CiiigRw3xaJHhO1x/z/ACf+gPXkkSEMGTnI5Fer/F//AJFKzxx/xME/9FyV5RbSFZMkZGapCHsoyw9sc1WCbVATIwcE5/Srt/H/AKRHsPBXLEVVzlvxx9aAHg4wTxz1qwDubIzjFQK+N+f4hginwvjGOnagDQSMvjaeMc/SqsgMW9GXBcZxjt7VeswDIA3AI5qreKYrs+ZngfKPagCkzKFPzdBTs7WXaQwAqNJEmVgSPvdfSm5BlbYcDPSgCfOTyMqeDx0pWA8wqO449qRoZBb7hyFPzGoJHdJBI3A28Z70AXHcRWmVODkAiqb7Sp56nn61PbiS9VduAV5we9U7WO5uJ5okjO5QeBQAyZgi84znGKhWQB/vY9c1FczPHN5V2jRunADDFUYrwXF08ePlXgn1oA2RICeKeBlQQu7JGQD271jRXnlTFGbK7uDWqkgK5U8UAWEjj+3BCH+ykffB5BruPhICPFV1k8fY3x/32lcKGPGenau7+Epz4quf+vJ//Q0oA6C/twNUu2iyMzuWB7ncaqLdFXIZcEmrt8zHVrsA4/fP/wChGsyTc1wGXBVeufWkBdM7H7qggdaiFwWU45XpinhlePDD64qCGFkc7RlOopgNcbjtB2t2oYSbk3kcDv3qQqFfzGX5jx9Kc0TTIrL1VufpQAjkNG25cEDg+lQWlswTc7AseuKnlkX5gRzjFRQIwkwfunkUAOuY9jqNwBPIxTo3wQEbHt60XChNjDnBwKbw6n5cHtQA8SbpCWjw5H41HcYeNo1xv7ZNTRkJtyQTTC8RmY4w386AIxA6xZx0HNVw/wC9POAO1XfPCgkk4PSq20PEWK9T1oAkUiUYDBW757iiGXa7KR8hPGarEMsgYA4xVj5WteSQy/rQA6c4B2NhuxB60kZ6B8jjBHrUFtdAsOjDOMdxViZSqF9wyfagAJ2AkKCp7Vf8fEDwDpef+esWP+/TVnxBiAHU4NaPj8IvgLTAeB5sQGf+uTUgPLwSCOKR/lXJqTGF6Zpk2Amc5pgZ124TkmqUl5GkZGfrS6oS3Ctx3OayCgLetICWYm4BYcqOlZRlMV0rA45rVubiKzsW3cn0rmkvDcyscYANAzs4JPMiXnORRf2ouIAM8jpWHZXzRFATle9dEJN8YIwR1oEYljo2bnfJ26V0CR7Fx26U1MA9OvNT5z24pgQFcMQ5p6EA8Cmy/KeaSFwxzQBOVJUnvVeVOR71ZTknFR3J2DB6UAQIMAnOacFLID0qNT3X8Kl6r+NACLuDYI59asoSFzVUAqxz0PSrCHHTjigDvvhISfFt0M8fYX4/4GlT6z/yHr//AK+ZP/QjVf4SD/ir7kn/AJ8H/wDRkdSay/8AxUGof9fUn/oRoArUlIGBPFOzn60AA4p2aaeKM0AOHPWlpgb14pwoAKXvR096SgB3rzxSUcjrSY5oAUKCOaieEHkfmKmFKKAKvmtFw3zCp45VkHHNDxhunBqq8LK2V4PtQBoDOOKXIPaqMd0yHEnPvVpJFfoc0APK801gRzTyeKaTxQBu6vk/DfTf+vo/zkrkTlwF4wK67Vyf+Fbabj/n6P8AOSuP4j5QH3oAV8su1eq9T61LAhOS3GOlRkFwGHHtU8BVDluaAJhubIIqzDAAAwqASbgQO9TxFgOvFAE5+bj0qWKJpI8KC3riqxOOlaWj6k2nFtiht3cigBJ7FrWFHLglhnHcVVjVi1S3V0Z7hmJwfSnKVUBjQBn6wrCzUgcZ61zyKS2TXYyGK7jaKUYH8Nc/JYsruQMKpxmgCr0GO9EcY3Amlc/Pn04o5PSgCKSPdMWHQCmEc1YY4wB1qCTrxQBEU3tkcYpAAo/2qeRiM0xfmYe1ACM2SAa6LwKMeMrH/tp/6LaueZMPzXQeBv8AkdLD/tp/6LagC3rsedZvCeP9Ik59PmNYW8YcHcjrKV2kdVH8Wa6PxAo/tC93DIM7gj/gRrnJMmYktuPdj1b3PvQBLEePUgfnVqL25qpH1FW4yd2MdutAFlKnUVAlWE7fWgBXX5f5e9UZBhjWiF+UDtzVO5XDH60Acr45tvtXgnUkyMrEJORn7pDf0rwWvo/V4PtGj3sOCfMt3XA75UivnA0mUhKKKKQwooooAKKKKACiiigAr6/+Bv8AyRjQv+3j/wBKJK+QK+v/AIG/8kY0L/t4/wDSiSgTPQKKKKBHD/Fm2a68J26pkFbxW4/65vXj0LBCBKMHFe4fEBd+hWy9jdoD9NrV4tqaCLV5EC4RWxgDtTQhzuyxgxtuPRgaYigYyMe9NGSQw5BPPtTwdzke9MBWjO/cOABzSRg+ZkLgHj6VZlAMWOh4pYEIBYjIoAvWkWY8gZ285B7VFqqC4RHGQMcE9RVvT1R0U4wvfFQk5eWLO5t2VRqAObX91mG4Uq4OSR/FVeaRrMRsXDI5/Fa3NQso7nM23CouGZex9K82u9ZebWDbTZQRNtHNAHpdnIstvticEyjJU96tahZRWlxC00bBXABQjOPeuU0u8KhShxjpW9NqjXqxLK+WXGGPYUAaGmad9kvQGGY2yRx0zUOhwix8SzfaTmHzCQ3qKmTU/lU8Hsak8yN1LAZY0Aa97pllrE3nzomTJ1Ax8tc7qnw5MWpPJpcoEUo3r/hWxbzBAADkVv6ddJIVWTnBzQB4z4j8OX9lZPII/wDVtksvpWPp+ueWAsh3EfeGa+jPsNpcNNDLEJY51KsCPuk14l4r8F2+g+MLiJIysLDKEDikBetpknhEkXIrvfhOB/wlt1j/AJ8n/wDQ0ryjS5fs87Qh8qDxzXq3wk/5Gq5P/Tk//oaUwOgvroDWLtWXIWdxn/gRqo23LOgzuPTPSrGtW+7VLh0fkTPkf8CNVoQ4j3OMZoAZy5+Q4BPIzVmBGVQCarFSjHPH0q1EVEPB6dKAEuUWRQd2zZ+tRWxfby1LcFWTBIJJ4pAnkLnOF9KAJZoVedGHC4y31qNG3Mdp5HAzTo517nOT0zSTSEToI03AjkjtQA848orKM8ZH1qqrhFUkYLe9NuJXEoQnHH5UwxlkG1hgUAWmxtXY3zdgaijYrIXYA4ODio03qOucd/So2ugrFQDgnrQBYumiKgxZ3N+lMDMI8BflHWq8koJ+YgkD5cUiTN16tjGM0ATRTb1KE4B7+lTqUCMrfNjsKpMrLJ2wfSpImNsBtG8sfmNAE8KxFtwTafpV0oTDlxxVVZt7AMAD7VcmdRbcgnHpQBB94ER+nHtVn4g8/D/St3B86HP/AH6aq8UkYQnHX3q38QcN4C0zjrNF/wCimpAeZBwVxjIpk7jp09sU5SoIHtVO/uVjU9z7UwMDVZcF8HjOKyrmR4kV0PGKn1y5Eaoo+8eapRy/aNPIPVaQzNvbt3B3tmmaOokWVT1zUN0Oa3fDOmefYyyMMEtgHFAyhIxhO1q6DR7sTWuCeV4rK1O0YK3HzL6VX0e6MFxg9DwRQI7dPmwQecVIOOvWqVtOHAIP4VbPXOcimIiu2woaoreRSeDUOoyfuiF71nW120MwB6UgOnRhgYqK56dM/WmQTB1DA1XvrvywO9MB6Hj3qRfeqdtcpOuRV4dOBikAbRxk5qRSAxNNjBBIP4VImApNMDvfhIc+LLk/9OL/APoaVHrhx4h1H/r6l/8AQzS/CI/8VddDp/oL/wDoyOna4v8AxUGoHv8AapP/AEM0AUAwxxT1kwcNTME/d/Gl9m4oAnBBo61Vkj3DIYq4+6wqFdQ8mUR3gwT/ABjoaANHH4ikHtSI6uuUbcD0IpaAHK1OzkUwHk0tAEgGRxTSKQNjoaUnIzQAKaeKiU81IDQAEZpvXg1JjNIRQBC8AYcflUHltG3y8e1Wx9aU4PDUAV0u2Xhx+NTCZW70x7fI+Xmqzxsh4oA7G/Tzfh1poAz/AKSf5yVx91hHEI4Ynmuru55IfhlpjJ95rll5+slcm6iX5pHHmD070ALtCgBTx3qzGRJGFVeh61BDgptI5zV6OMysMLgKMYHGaAFjtzGSzfL6VMFUrz1pUiafIQnI9T0pShVQB1oAjc7RxU8DgEenemSR8AE80+K3Yn5eaAG6kQt3GyAhCvWluZwIE2nntTdUlWKFEl4dTnFZNxdbgNp+lAF0XO0tl+afE2+1dXOSxzWSxIA96vxzq0KxqOR1oApTwYNIicHJ6dKlmk3AjHFRxn1oAjKnnNROvrWl9nJTeelRPbEpuNAGdJ93AqSOLbFlu/Srot0t8yTDII4qmxeRi54HYUAMIzW74HXHjSx/7af+i2rF4CnNbXghs+NLH/tp/wCi2oA19ZjSS/vs8HzpP5muQAZX+f1rq9Yf/ibXg/6byf8AoRrnp0/ekj1oAZHxgdOeB9TVyP8ATrVZBVqL3oAsr1/GrEdV1qdD6dqAJs4FRSJuySO1PBzmhqAM6dAQUIzuGCK+ZryE217NASCYpGTI9jivqCf5NjNGzhpQr7Tyq85P8q+d/HNvHa+OtXigZmjF05VnHJBOc/rSY0YFFFFIoKKKKACiiigAooooAK+v/gb/AMkY0L/t4/8ASiSvkCvr/wCBv/JGNC/7eP8A0okoEz0CiiigRy/j59mh2xJA/wBLUc/7rV4tqci/2vIBxk5xmvW/ipJ5Xhi0bOP9OTp/uPXmupWEV5pv9o25w8JAcHvTQjMQ4OO2eKkI/es2MHjtUEXzBtnY9Ksqc9Ov86YD92SoIyrHI+tW7ORA5Ey5U8GqDExzAEc98dKt2zfvcDGOmDQBr20C2lyTHmSOU42/3Kijt2jvrot8/lrlTjk1bitw8PmBc7RyO/4VWvjLZrHJtYiZMFhQBRuIl/seW5ikaJ1OWjbo5rxe/inuddmndNvmSbgRXpHjjUoU0u3iSZ4pHO1WU4/OuEi83zAsjlx6mkNG1pbyIAr/AJ1uIcjIrCtmPHPSti3ckDNAi/HJt6nirsUuO+fes+JykqsQGjA+ZT3qWM4/OmBswz4NatjdfvFGSOfWuaSU9CavwXBVgaAO+sL5RMH/AIl9at6jY22swMLmJJGkbkkfd965O1utyKyn5ge1dFpmqNG/PNAHjPinwpLoGoXNza/NAGJOe1dt8Eb03Xie4z/z4MR/38jrpfGVrbXvh6eWNEyzBSpHX1rI+Emm29n4tupLbgGxZdvYfOn+FIDoNRmK6teDYf8AXP8Aj8xqGFw4+bp1xUuqIX1S7KcETvz/AMCNZscn7wqCVHcHtTAtywHziynK+9L5YyQPlNSRy+W2D8wxS+UFkyzEjr9KQFK4bEwKen3atAg2oEg5YdqhnCPOHU5x2qeObK8r8vvTAoSMITj0HarNlP5sPmKCR2NKYlcgyYzngU2eQQQny8gAZ+UUARXpEpBbgg9ehFQLMvKDkf3qY04kOQckjmsbXLn7LZjyZWjdj8uO/wBaANQzxqzxRsS47k035iCsvQjr61x+lz3hvjLeAP8AKcsh7elZuvfENLC6FrZ25mlHBw3SgDuZgltCJS+2JeD7U63uoZmxHIrgjjBrzgnxB4lslTzWs1lOZBnoK6/RLFdIs0heczMoxuagDofPxIoByg4I9atKqsGEZxketZCXCljs6mrkDEe5oAtQRkYHQ1ZE5W3K9W9DTbf7h3c+mKjELySO4I69M9KAJ5MiFXTlWPPtVv4hyeT8PdKPTMsI+n7p6otf+RbmLYAOm4im/Flyvww0YqcE3MHP/bF6QHm0+oRxw4JBbtWRPdggyTnaB0HrVKe6S3Tc7b3PQVkXd28wJJ/CgCvql0bm6Zu2cCrllbSJY+Yw+VulZ8Fu11dIoHU813sdrGlkkRUABcUDODnti821RyTXd6LaCy0uOMrzjmqkGmQrdbyB1rY+6AqnjpTEc/qsO6Qv2PWublhNveAqOCa7S+hzG2cVgXMCtGzEcikMdbXLoQSeK0P7QHl9frWHbThuDWjHGr85AoAsp/pO9uwFZ10nl5J4q5PqMVpAyx8nFcvNdy3l4qFzgnpQB0dpeSCPC8jFF9K0drlz8zdKoi6WxwpBJxxVO9vHn+Zjx6UAaugymWWQE9K6eJePXFcl4WG+WRj93pXYJ8qjbQIa33wQMGnYO7ORStz7UKMEZ4pgd18I8Hxdc+v2F/8A0ZHT9c516/x/z9Sf+hGm/CQf8Vddd/8AQX/9GR1JrX/Ie1DP/PzJ/wChGgDO/DnvQee3NOPvzRhe2VoAYi7gQ3H9Kimt0lXbIAw7Gpyc8GmA468igDJDT2Dlrcl4wfmQ9q07PUIbtcKcP3U02e3WZSQSr9mFc9cCW2uju+R85BHANAHXCl+lY1jrBZQtwRnpmtZXV1DA9ehoAeMH2NKDjrTaXmgAwM5HFODetNzSgUAPDcUvmH0yKjPtQD+FADwyH7p/Cl+tRtGH6fK3rUXmvC2JRketAFjOOlBCvww/GmiQOuV5FG7ByOaAOh1VFX4b6WvYXZP6yVyMiEzbo1wtdXrj/wDFtdMIOP8ASz/7Url1m2KGYj2HrQBLHGByTVyJWHKfzqh5u5uMYPStGyj3uSx6DtQBaigI5BIPepHRUYFhwKk8iSKDzuwPSmrOJgwKE560AQHZ5m4tn2FSQzhZMr+RqCWEqwKdO9RxkluPWgCDV4Gmka5fIJ6isoc7RjvWrqNwHYJn7vX3rLaVEkG4gCgCwV2yDcvGKc6mI5HGR2NRzXAcrtbIoLjaWc4AGaAJ2KyQAEAEd6hWFjyBxmuWu/EHn6m8ML/InAxWvp1/Kq/eyD60AdEkuyEIwzVhEjlKovQ8mqcN1bzbRKwDY5qxDLB9sCwyZK9aAC9tt/DD5U7Vjsh+Yjhe1dXcwedGDFyH61k32nSRKMLwaAMFtx47etbXgZdvjaxB5/1n/otqrPaAx7enrV7wfhPHlgi4I/ecj/rm1AFzWG/4nF77XEn/AKEax5etautg/wBr32Ov2iT/ANCNZDNknHHNACqMHr3qeIgOsffaT+A4/rUC8Yx0qdPWgCytTK3Sq6HpzmrC9KAJFpW6UKKcATmgCrMeK8C+Jdt9n8dXh4xMqSDHb5QP6V71OfmIUZ5wK8a+L0O3xBYzc4kttvtwx/xpMa3PPqKKKRQUUUUAFFFFABRRRQAV9f8AwN/5IxoX/bx/6USV8gV9f/A3/kjGhf8Abx/6USUCZ6BRRRQI4T4to8nhWzWM4P29M/8AfD15nPLLb6dLZbTlyDvHSvUPit/yKtt/1+p3/wBh68tViWBJ4xiqQinCpBORyP1qYEqufunvn0p5iwxIIAzwRTpJljMbSDJbKhSPvUANuEeDbIVJUgdaW3k3ygKMnv7VpWc1o8KxXC7gevNQW2npa3byrJmN270Ab2nMyRjsQvGe9STypPamKeIb+2BxWrpKwXH7qVACBgEelJrHhq4tliNod6j5z6igDxT4pwCCGyX7rKxytcfp1x5kaq7ZZa9F+LOy80S3nYATwPtkBGDXk0DMsw2nHNIpbHcWeTitq3HAFc3pcrNGN1dFBIOM0ElwdqlXg4PrxVfeO1SK3QUwLIarMMny1SQ8dc1NGfmHvQBs2krKOOK3LWbIUZxk81zNvIRgVuWT5ZQ3SgDqYrQ6pbtCxwoXOPWub+GLGP4m6rbE48u0kwmOg8yOut0dNyFoypIHc44rG8FW3k/FDUndGV2s5MZ7jzI6QGhqkxi1G62Ln985Y/iazkmikl3Fclu/Y1f1AE6tdq2MNM//AKEaznsBBJu3kYOAvagC4WXByOvQ+lSNJiA5AIxjPrVIySDAfAB9RUjtiEgn5T0xQBFChEvOM+npSupDEbu/SpIYipJf14wO1NkibzC38IPpTAqtKVkIJxz+lWElDNsfkd81LmMgZQMao3Qw6yKcKeNooAztQkaKdjGuAvXbXL3mq+fa3DI4ZVJADNnmus1K/trW1eW5cKNvevJbiU65NPZaCGG+bdK+eB64oAbo93q91dXHnSbcLsAQYAz/AFrpfD3gWJZvtl1HvlPOW55rpPDfhNLW3jRhlQBncMkn3rtIbBUjAVcUAcvHo4hj2xLj1pJNKMUZeSuxjsV6kdKxfEbCCwlccbVJoA5qNlWTanUnitaAMig9TuGea5jSb1Z51bOSTXU28kbSospwAQaAL29VtRlwGJ6GmHcB8pGCfSrMzRzRELgAdPlpsEQflyoUDp6mgCEKJSybipUgk1H8aCR8LNH2H/l7g59f3ElS/M7cYRge1M+M5x8LtIz/AM/cP/omSkwPnieVs/MTUcG6eTaBmi7PPFa3hmzDM8rjrwM0DL+kaYsK73HznpntW4R8oBx7Ugj2gY55p4z3GaYgCHbk1KABjFCkYx+hpxAA6cUAQXcYaEkDtWE8ebWVj610kwH2N2A7Vyeo3bRL5YHBoAztoR+KjnuJIxgMcVG82Wzmo5pN8dIZC1wzZBPWiyiL36N71EkRL/yroNL00iNpXXB7UhlPV0xcAjpisqSQlMVr6gC5OeoqjBZNPOq4zzyaYHR+F4PJsdzcMxzXRJkrnpWdZwiKFExxir8fQHOQDTJJDg9ufajPPHNKTkccZpq8dOtAHefCL/kbLrP/AD4v/wCjEqTWj/xP9Qz/AM/Un/oRpnwjOfFlyf8Apyf/ANDSn63/AMh7UP8Ar5k/9CNAFPGaQjHbikUkGnZyM0AIQMf41GWwCD+dSHpx0phGDx3oAZ0wR0qteWkd2m1+o6GrRHOelMb71AHM3FtLaSYcHb2armn6m1uQknzIf0rXdFkUpIMg9jWJe6e1o2+HLRnr7UAdJDOkihkbIqYn0rk7O+e3kyh47rXQ2t6lymVPPcelAFsHIpwFNDcU8UARP5gOU5HcUiSrJx0YdQeoqYsvfioZrdZeR8rjowoAkDYpWUSrhsGqZnkt2C3Iyv8AfHT8asK4I3KcigCJonhO5DlakjmVx6H0qTece1V5Yd53xHB9KAOo1lQ/wz03Pa6J/WSuSmXzfL8sEjFduuD8ONOE4HM7A5/3pKxPstuOrheOKAM/T7aKUlZW2FfWr1vcNasTFtIx3rNuodsxKkkH0NR20UskmxdwyetAHQtfvJbsrchu3pUcPTI4qm1tcWkvly05pSMANQBqQxeb8uetZ+oxNpcuX5D8ioTeSxuSCRj0rO1jWJJ7UB8ts/iNAGdf6ukExOdzHtXP3GpsZHd2xz0rL17V1tkeYON44wT1rCtL+fUMu5wCelAHf2mqmRUB5pNd11LfTJWVvur0HrWPZArEpLbQeKy9XtJrqcbpP3a5Ugd6AKGhXMl3M8rgjc2QTXdWRLLgHoK5XTdPSyQRxA49TXR2bsvfFAGj5pjYEnmtCyvvKm3vWcqhjn06moJ7iNeA4oA7mw8VwwypFLbtKpPJXtU9/rCzykwhdg/SvNF1C4hZnRiR6VmXOp6okLeWGMsj/wAJ6CgD0W/vDL8sK4H860PBVuV8ZWMj53fvP/RbV5/pmqXVpHGty4kc8nd2ruvh7rg1LxZaKIdoJkAbHpG1AGpq651e+97iT/0I1gSfJIVPY10epjOtXg7+e/X/AHjWFqMRScYHLdaAI1bNSoarI3apkbjJoAtxnI9x1qwnbmqqZDZB/KrCdD+FAFlDmnlwqnHWoUOKGbNAFYp8uDz615Z8Y7UiPSrgkEgyRnjr905/Q/nXq+K4P4t2/m+Dkl5zFdI3HuCP60AtzxKiiipLCiiigAooooAKKKKACvr/AOBv/JGNC/7eP/SiSvkCvr/4G/8AJGNC/wC3j/0okoEz0CiiigRxXxUOPCtvkZzeKP8Axx68oU7Y+mdvQd69V+Kx/wCKVtuM5vVH/jj15TC3zAe/WqQhWZJYtq9ap3Bd7oFDhUHy5qPU2+yamUBwrDI96EkBGSaAL8L4HvV+Cc9z+FZiNtbBx6g1ZQ4OfyoA6vSbwRSfjXomlXcN7b7HOXK4J9q8jspsEEmu68PXLbkCjBYjnPagDjfiP4cW/t7+28sOY/nXA5PevnV4/Im55KsQQeCK+rvGcYsL5ZFbPm8/hXhXxC8MGBzrVt/q5mw6KMbT60hozNHlSa1Ei5GDg59a2o7uJLqK3Z/3koyPauM0m9eBvK58tjngd66F7eOW6iuvNZJYhwexFAHSyq1rbxLOFMzncGHcUqPx71nPeNcuhlIO1cDFWEmBH8qBF9XwasxOCazkfpVuJgTwaYGrAckVtWpIUEY4rCtMls1pLcmJMAjIwSD3oA7XRbmIW53SKm7jJPSpvDaFfiFOx2ndp74Ze/7xKwIL3T49IcTn5pOi5wR71f8Ah7A3/CVTXHms6fYmRQTnHzof6UAWtRZl1e6JQYE785/2jUbyecmMrnPBqTU18/U7sJ2ncEj/AHjUHkiOHAIJz0JpAOngaRU2HcVHSoGzGi7hkCnW8u5yB8uOtTSFfJIX73cUARxT+bJxnb39qnZ12nJ4Hb1quoVWDY25/nUXmbbghuO9ACO4jwPuntVa6kaO3ckg7eetXJ2UJvIzgd65HxBqf2rdawOVTozLTA4nxdrk1401tb7pjtOQvRa6f4d+GhpuhpcXQCyS/O2e3tVDSNPsRd4DK7Jywzk11tg82s27WNtA9uu7YWPdfUUAdTos1reQtJbOrRocFh0zW/DaiRQykEHuKo2OgW1tpMdjENkSgbscE1ZudUt9ItwiROwAwMUgLkkAji6Vx3ia3+0WM0YONykCry+JJruUnd5cQP3SK5zxB4ohTVks1jLq4+Zl/hoA83024ey1Rrebgq3HvXocBEkETYB3DqTXH69p4a6FzCMHOc10uh3Am0yPf95ODTA6OMSfZcArmq4dkjJbGVPBHQg00yII8kY455p0TptOCPN6r6UAPjjAh379vrmoPjU234T6Kc5/0uDn1/cSVPFExjYuQwbnB7VT+OPHwk0THH+mQf8AoiSkwPAYIDe3YjX8a7OwtRawBEHAHNYHhaBWklmbnsK6tD6dKBseuD90/hUnTAqHK7gckGphz8uc+hpiEyC2TjKmpckqcDj1qJlI75NTKcwg0AQy4a2kTPzCuR1SMnH0rX1G5mgvjtOEYVl38iyL8pzxSAwXQioyecVPM4GaZBCZ7hUXuaBmxo2lediaQZTsK6VYFVABwPSm6fAILZIx261YkADADNAjGvtNSWTcB9afa2KQcBc+9X2wc57URAHoaABFAxnrT0zn+lKwwRQDj7vXNAE4OVJ9qaFwMnvTkJxg0FTsy3SmB3Xwi/5G26/68X/9DSpNaP8AxP8AUP8Ar6k/9CNQ/CE/8Vddf9eL/wDoyOp9aAOvah/18yf+hGgCiPak6dKU5FJ1oAXPrTTz9aPY0fWgBvOOtMNPPWmkDmgCM/SkPOQRlTUnFMZe4oAyrzSgSZLbg/3fWqENxJbTDB2sDyK6Atzg/hWdfaeJmMkfDdx60AaVjqCXKjnDDqK0lORxXEJJJazDqrCum0zUEuk2Nw496ANE4bg1VlWaA74PmXuh/pUu8g4NO3jpmgCp9rhuCVB2SHqj96hPmWrEw5K94z/SrF5p8V2ufuuOjCsh5Z7GTyroFkzw1AG5bXMdwmUPPcHqKcybTlPyrFDqzCWCQB/Ud/qKv2+oCQ+XMNkn86AOyvZNvw00wuOt0w/WSubHJy2cfWulv13/AA00zH/Py385K5TJyd5zj0oAuqsUkeFPzDrmpd4Vl8r92B1PvVO2QK27OSecVO8434CZANAC3kshkDSS78jrUR/1YbOQe1MuWSZQqLtOelNc+WqxqCeOTQBPDCJvmkfAzjrXK+KtQis/9FDhdwPTqa3pbv7PCcKWNec6xFcaj4kM0iExIPlzQBiSWbajd7plPlI3fuasbEs5BCu3J6AVsSw+XasVX6AcVj2UMl1qZkmToMCkM1JLlUtQrcHr1qWH9/GrOOoqjIvn6iIwcrH1OO9a8afIABQIlghVpRtHStAW4T5u1JY22FzU+CspB5FMBNhKMB0qnJbr1ZelaqHbGd3HNVZhuU7aAM11ycDpSbjsCRR5bPLVO0ZGeKdbwnOPWgCstt5v3+ldl8OA9v400+FCvlHzMjH/AEyasLyPKGcV0Hw/TPjrT3xgDzf/AEU1AHSaiANZvMDH79+/+0aydSMaNEZHVS7iNNxxlj2rU1Nsaxen0uH/APQjWHqtrBqXkxXQLRwv5owcEOPunPtQBFLbyW9w8EylJIzypOcZ5/rmlXPepZC80rSSnc5RQG+nXP4UKuc0AOjOevYiply8aEMUYMrceo7H2pgTPA/Sph8zc8E5I44+lAEry53SEADOSAOBSkYYgnoSM0xR0OTkHrnvTse9ACNwCcEkAkAd65P4kW/2jwDekH5kWOUhhjaQwyK6tjWV4ktxdeF9TgOTvtJBwM87TQB82HrSUp60lSWFFFFABRRRQAUUUUAFfX/wN/5IxoX/AG8f+lElfIFfX/wN/wCSMaF/28f+lElAmegUUUUCOH+LBx4Vtf8Ar+T/ANAevKLeQK5Lc44Ner/Ff/kVbYHvep/6A9eQN+7lIB+Xrz2qkITxBbi4SCWH5vLP6VWt+EGe1TCfEZEg+UnFRD5W9j0oAsrxx+XvVpHygBqnH8xFWIvmyM4OenpQBp2IzIBn3ruNEBTDLyMZ4NcZpkTG4GMHaMnmrA8SSrqBEY2Ih2getAGr411L7Vfh48sqKAARXM2t+J3mtb23EsEg2kFciusle31XRp5flWVRwD3rmtMufLvCjAbc9xQB59L4dFjqdxD5J8jeSjY459KwL6a7sb+RJUYQ/wADFe1eyapF5l88JVXjbBUjtWfregC+8O3qwxLLIi4VSOR7igDy/T9X8+YxgHIGQfWtmOYsg9c1lyeF7q2sWurMMZ4/vRnrj2qbQ5ZrmVop42R14+Yd6Qzcjd8Ajtz9KuW8paQLjn2q3Bo082m3DIuJFTIBPX8as6H4dubiFZ2IRgMMGpiESZ7RV3AkMDtNOTXIZ4vJmUbs8Hoap6xbXWk3X2a4lAZlLRZ9axtPiuWQNdbWZTyw70AdJc33msCq7gowqj0rtfhZLv8AF10sblofsTEA/wAJ3pXAsquygjayjAPrXbfCYj/hNLpUIZRYPyPXzI6AOg1ItDq14M43Tu31G41Cria0ZQPnzgZq5rWyS9ugOHEzAfmaz7eGS3YiYqQaQC21s1u5JbgDkk9ajlkkXngDHIq0vzSFWORVaa3eWYLGRjsKYEtvLvj3EfTNML75yCuadFlXKMMYPT0qVVjR2J6N3oAytQjmeDCZUc557VzV5oZWDzE3PIfQ120sKSRMAxwR171h35NvaN5zbVXjJPagDgLQW+gXU1zdyt0y2elel+BNZsdZsxc2JDZODx0rzp2t9cu5IVi8yPJTBHX3rufA/hpPDUZSEnDncw96APTIIw6gN071YubSA2h3xqcDjiqEc8iwExAF8cA+tMnur3+xmN0FSZgQAvakByV/bmW+MMKjdnO7sorn9VudK0iOZmj8+ZRl3xnn0raSC4srSZ3laQuSSWPP0qhp1vb6lE/nLGZkblBzj60wMGGdNV08SrG0ZPVWHIq/pcIW3KE4z6VbksGtvM3MCCeABjFVzcwWkeJJFU+hNAF272xwKBzyMZNLEA8+C/bAFU1uhdSx7eUUE/WrGnrKfM805y2RQBobGC4k3A9Miq3xyH/FpNEHX/TYP/RElTbisgBY4A6U/wCMkYm+FuiBun2yA8/9cZKTA8g0CAW9muBktya1mO1cj19apWTKqqoI4FXjtIwDjNMBu8HFTkgYxknufSqKyYk2mriOAA4/EUASPjaSGpYiHXhuM8+1MkYBfkHJ5xWM2rtBM8ZXjPFAE+tISo7kDrXJvMVYgnpXQ3GoCaAg9a5u8X94SKQytIdzcVteH7PdJ5rj6Gq+laYbpTI/3c8Vt7Fs02x8Y70AaoZVGN3NNlkwn3qw/tj7jhqX7TI/G6gRpiZS2Ac0sUymQisRmkjfO41Is7xShyeD1oA3ScEgnikDbQDUcT7gp6g81KUEmccc0ATxEsM9R2qaVcoB0zUcLbFCYGKfKckdzTA7X4QDHi66HX/QX/8ARkdWtZ516/8AX7TJ/wChGqnwgOfGF36/YX/9GR1c1lc67f4P/LzJ/wChGgCh9aaR6U/vg0hFADfrTTx9Kf25pjDHSgBv602nfSmfSgB23d060jClU0/AYcdaAKpXa3NIqgtg8g1ZlUEVXBw2DQBRvdP8/mP7w4x61lHzrG8xgqQeDmumYj6VHc2kd3HtkAyOhFADbPUFu0GThx1FWWYn0rmJIpbC5OCQR0PrWzZXguov9odRQBoiRhzSSJHcJtkUMD2NQJJg4/HFSb8NkcCgDFvdOks382Akp/KmRTJcrtY7WH5it13DIVP5EVi3dkHkMlsdjjtQB6A/y/CjSd8m/F03zDv80tc/GFffuO2t+PefhLpHnDDfaXyMf7UtYqxgxu2O3FAECN+8VEB3Z4OatXJ8mVQDxj5sVUkUpID0ZeoqSB2kjd0TLHjNADLm6gEgFvkEioluG2YPXNR3NpIkikDBNW7C1aWUx7d3rQBU1ST/AEQeQjdMsSKxDC0+xgBnvXU6rHBHCUjb5lwCD3rnooZptyRKSc9qAKN9aRrBjBzjJrCM8cLeXbp8zHB9q6zWLZ7ayxMh3MMg+9YFtpywv5jjLyck0AQ2lt5WeMknk1rRQZVc4FMeDy1VugNXLQB4+W6UAWoojs+U4poiZpgD1z0q7Cg8oc9Kq3Eu2YGPse1AEtzCDhBkY65qBIjg5HQ1Y85p2zJ8uOnvUkLARSMeS3SgCn5IZQQOe9M8oowOMCrCllxj16VPs3RkkCgCuTuUZPFdB4DUL40sOef3n/otqx7ez82Q54UV0/g638vxdZEAceZz/wBs2oAm1V8axff9fEn/AKEayXbMjNWjrDf8Tm+x/wA/En/oRrOA5oAUU9RTEziQMuCHGzByCuOfxzUqCgB6rT1HNNUetSrQAbcqRtzgZx7etKV3e+f1pyZS7W5RiJAnl+2Ov9aci7VCjt0oAgfj61BdoJbaWIjIdGXGfUYq5IuQMVWlXODQB8uSIY5GRuGUkH602tTxNbfZPFOpwDol1JjjHG4kcVl1JYUUUUAFFFFABRRRQAV9f/A3/kjGhf8Abx/6USV8gV9f/A3/AJIxoX/bx/6USUCZ6BRRRQI4b4skjwra4/5/k/8AQHrydSGj+cZwehHevV/i4ceE7XnH+nJ/6LevJo2bA/vZ71SEUyokLBWGDz+NPgUkL5g6dqhGYpirLtLnKirUQJJX+LPINACGFkkwpOMd6mZnjdZO/cEVPeBre0QEZLHOfSoY28zarenIoAsx3Bt7gSxt1HzJ6VFGPMmLn7zHJNQu37xz1A4GaWGXdgj9KAOlDPFpjRLhkIyzKelYsDMtwMsCc5z61oWU6mylXdtYrx9Kzh+6csuGBHUdqALUt0Wll9+FPpWppGrN9rEVzGNpxnjtXOoxExAxxzg1bSc/Kynkj5s0AM12O2utekEA2beMrxWM2niPUGI2lR3HetO4XdqDsBw65Ug1AHDpzyehNAEtpNJHCYmb5W9617S4W3iY/OckYCnvWGBxnpxU3mMkOVUuQwJAOCKALXiTydQkSO7DGWMD5iMFaxIbVoY2Cncv9K2r94rq4SRSSpQAk84NZzRmGQJnHHB7EUARyNthCjkn9K6/4Mrs8VXa9T9ic5/7aJXKTxlGR1AxjnI4rtvhIqjxNclVxmzb/wBDShgbGrCRNWu2CkAzvgn/AHjUSTCTG4c+9XtSO/VLlFIB85xz35NUJEMODjlRjHY0AS3DmCBW4IY4FJEm5CzcEetMMyy/KSMrjj0q0AGj2HH1zSAoF3Ybg2D708BmzkY47UsiJFII8EjtkVLD5O47sgH0pgVEn+brk5+7VDXNLbUbNy+4RgZ2qcE1psivcN5Q4X9ad52CVIwOhoA43TrCz0NVkum2vM/y5PSuwtLuOUAxOCF64NV73TLS+2yTIDs+6MVT0bR4dIeUiZnEjFm3HpQB19peAd6oeI9dEFvhcnHTAzWaNQhjQzLIBHnG48VXOt6bNjLLIWOOueaAM1jqV3D5dpMzCZtzbxkqPQV0VnDa2NqI4lXziPnK+tJAYoYzImOe9Y+ra0LWJvKXao6nPWgBmsXyxK/PPr6V5B4ntb271iKUPNLHI4GEY4AzW3canq/ibVFgtYfLsUkHmO38Y9BXoVto9vFHGpjUbQOcUAZuiWE0FlGH+SMKAc8k10VrbiMkR8HGKkgjiDbTzH39qXy/JmHO5DyPegCZ7TGXfBYDjmq/xjH/ABazRv8Ar6g/9ESVc3+YuEx0xzVL4znZ8LdH/wCvuAf+QZKQHiEVw8TDnitWK+R05NYLXMIXlgDUsDq4BzxQMvS3JWUOnQHmtSzvEnT5Tz6Vg3V3Bb2p5BaqWn6r5NyrdFY4oEd2ibl5HNc9rliUBkT73et+2mD24dCDx+dVr+SN5AGxyMYpgcWJ5QpBOcU1szL0+tb11pI5eIe5FUBabFLAYweRSGXbOeOC0WNOtMvWKwBnOC3OKW2EYXc5AArN1K886YlT8o4FAFeRzu+VsVesywXc5yKy7QNcXyRKc5rZeNrZWR6AGy3kI+8agk1GArtFZl1kyHFVdrdKAOks9UIUKDkDpW5bXYmUEde9cXDGyx5XrWlYXEik+tAHWeYNwOaJ7kJGT6VipeTVZjka45kGFXrQI9B+Ctw0vjm8B/6B7n/yJHW3rI/4nt//ANfMn/oRrmPgddrP8SL9E+6umSf+jYq6bWP+Q7f/APXzJ/6EaAKRGRg00/L15FPzQRTAZjcM0wjHTpTyuDlaOtAEeKjYfhU+M9KaQcEEUAQg4NOHHzLz7UmNvWpIvbpQA51Z0O3lgM/WqBO45HBrVRBsZsjOMYrKkiaOQk8jNAEiMO4p4B6ryOlQ9Fz2qxAwJAPOaAILiCOdSsq59/Sst7Gazk823JYD0robiFdwIFQNCyk49KAKUM63UYx8rr1HcVZjO4fMvzDrUMlsGYSIuyUd171Nayq0mHGHHUetACM6o+HXjHBBqjcfIwdDkHvWvLZwyAtBuPqpOcVm3doyR74unRkNAHbHM3wr0gqM5um4/wCBS1k3A+y28YfBckfKO1bVnMIPhbpLFf8Al5cAH/fkrl5vMuJXlmfaA2aAGXEoNwWOdvem6fd7d+2JsA8fSmmcTzhI1yD1NPFysNytoFxkZJ7mgC60sU4QKmXbrV6Owm0qQTA8uh4zWfbIqXasw+6cipvF+sQi1t3LEOTtCL3oAjjt01C5Ytj5u9NgtUtdS25C+h9apaZfJHKjMrdRkCta/e3E8U4zkjj2oA53xUHm1YKM+WBkj3rPaMNg4GF4ArV8SkBY7iMZfOPqKxo7szoURdpU/MaAEuAocI3JXoKktkwwDHGaroiG6JaTJIzUkJEj7wcAGgDWQFo9gO2j7N+7PHNLCgYA9P61bKOVyDxQBRezd/mJIOKt6TBy0k7AxxggA9zVuSTNuTjHGKZbEfY24wo5Jx1NAFN7d1mJIwGORTmUr16VoOkM2ns5l2noPWsZLWcybQzNjnGaANiyARhuxg1u+FZVfxdZheMb/wD0Bq49jctKFB2dhiuo8FQhPFFmckt8/X/cagBusN/xPL4f9PMn/oRqkBgfyq5rP/Icvv8Ar4k/9CNVBQAoFPXrSccU9frQA8cAnr1PTnHpUoxng59x3pij8u1SLigBwGBx+NPHHHHtSYpccf54oAa5+XjAPvVaQYPovbJz3qd+hPSoGPB57Z/pn9aAPn/4hwfZ/HepLjAdlcc56oprmK7j4qWxh8TwSEhmktVDMFxlgSOffp+lcPUloKKKKACiiigAooooAK+v/gb/AMkY0L/t4/8ASiSvkCvr/wCBv/JGNC/7eP8A0okoEz0CiiigRwvxai87wnaqccXyHn/cevJdmMIDhxzg1698VBnwtbZ7Xqn/AMcevJmAdkYjJUdRVIRDNGs+0yjOw4BHBBp7w7o1O7bIrZyf4hSnDbu3GfrS53wENxxuFAFrdDeqiSNgKOD6moHhe1iVn5Zidue4FRWxK43cVp3KfbFRouNqYx1oAzkCMXdBkOeh7VXtowjMPfp3qaMtyyrnsV9DS7VP3gUZwRk+tAExnMB3RtuTHIqMyBpOOm08VEhJkC/e28EZp4QFmYcqeR7UAKX+QZGMU8TbWG4YGMA+tQEgsEJAbqPpUcrPExYjKA9uxoA0B8+Mc8cexqk42g7SCWPNW9OlxcITyo5NQ3BRriYqMB2IUelAFXzvLPlyZHFTQzEkndg9M1HJGkoVXBBUYJ71EQ0EeWGQTjOKALvmMuY3G1wcmldxtCuc9uaiUhgpYnnqR2oY7lHmYPbNAC7z93PHSu2+FBx4suVHT7E+fY70rgwGWTA5x0Oetd38Jjv8VXTYx/oTj6/OlAG5eq39sXpPOLhyPpuNULqWUTZJHk1pahKf7SvFXGfPcdP9o1ScK0DK33lOaAIxHzlvrmp4LjC8jK9qaRvtyQMvjHBpYYSIwsh49qAEZ/tDHjAHp3pGUGAIXKn1pZbYrKpV/lzkYFEkgmQKOoOC2KAJYEKjC4IxyfWopI1EhkBGcdBTlQrFkN7VDMvlOjknceoHegBAWGeMj0qORdsuQvykfnV1EAHmDBPcUxpFdirgbccUAc54j0+S/wBJkt7fKmQYAFcdpPgm80yJIhNJuDh2J7/SvT2A/hOfSqzkzbvMADDoPSgDI1DVDa2ot4ctIq4zXLQve6xf/ZirSZOGOOFFdpFYRIzSS7TI3PPIq1ZW0VucoFDMeSBigDPsdIj06ERIgJ7ECtGJkKMZjtUcdKuNGDERECpBySe9QraLcNuY/L3A4oAhXajgREsrd6uAptXc24r0XFMa1EbFU+4OQaeMIMlSR646UANVhnEa9emaq/Go7fhXpG7r9rhz/wB+JKuvt+WROoHSs/42Nu+FGjseM3cB/wDIElID5xuQd5K9M1bnLxQx7SQCO1J5LS4KrkVYvUzbR+qjFAzHmmYg5PP1qxBE0lkGA5qDyGmmVFGSxxXZHRhbadCVXkAbqBlXSr+4jtlRj045o1G98tQS2XLD8KpX5e3mAT5QR2rPuZS5XnOSBQI7+Ib7ZGxkuvSsy5ULvUjGa1LHiwh5+YKBWbqoKPnsTTEYNyzLkA1nSuec1pXQ61k3PBIFIZq+F4RNqLyHog/Wujv7QzI2OvY1neGbNrey81l+aQ5re4I56njFAjj5rJw5DKav6boJnbdKOPSuga1VuoBxVmzj2tgcYoAyrzw+qQBoOOKzDbCKMt3HWu0nB8kiuWvcAyKaYFFLuFV+c1HdatujMcHyisu7BVziq8YZmHekM9X/AGeSW+It+T/0C5P/AEbFXXa480HiDUGI8xDdSHjqPnNcz+z7D5fju9b10yT/ANGxV1+tKG1y/B/5+ZP/AEI0IGZ0NxHOuUPPcHtT881UuLXnep2EdHX+tRx3ksThLsDaeBIOhpiNHrTDyaVMMoKtkexpxHr+dAEYHY8UMmDS0Zx+NADCtAGDxS7xux0pw60ATRy7Vx2NRyxq/NIDTvpQBTkgK9Kagww+tXW5GDVd48NlaALUbrKoVlpXQpgrgj+VV4XKNWpBIrAblB+tAGbJFuAdF4B5GelVZoNx81BtZeorWuYWSUSQ8q3YelROgeMtsYH1FAFOGYBsP8uR1qQgDcknzKRkH1ppA6MPpQZAFz6HFAHXm1Fz8N9Pjh6CZyv1zJ/jXG3OnXtuJUkO8Edu1d3aTLD4A08lc7pmUAeu56yryMG3JfgkYxQBxUDSR3BRSob6dKjlWVr2N1yz45NXI7MieSQ5AzU7RpDbyODyRge9AE8beVChlYbmHWiLT/t5JKB2H3c9veqy/vLVWIJboBV7TvODZiJBFAGcieRqDeaQuz2rQiJnVZJCNm7qe9ZOoSvJq0igZOeT2rVg3tYiM8YPpQBB4sVFhjRQCGXcCtc3a2wfdEg2ADLMa2r6ZdQU7pAhi4rENzLIrwWi5djjJoAjgtkkkyvfjNaVvp8aHCdqdZadNDHibsM0yWZo3OOMGgC7tVB83GKuKoaJT7dqyEuPOYAjIzVt7qcQBINoJPJoAvZjitmaT5iegpLZ2aHYMYPJFVd+5Ah+ZzyfarqIVt12D5qAGNp5Ys3O1ecVWjfbcl3yqDjr1rSmkaK08sg7yMsaw5H80jHPPTNAEr3SDBWuj8ETCTxRZ4P9/j/gDVy7gSKVChWrZ8CFl8cWCdv3n/otqALmrnOvX4/6eZP/AEI1XAqfVz/xUF+Mf8vMnP8AwOq68jnigB3fIH+f8ipBtqP609PfmgCccDP41IO/tUUfT8KmXHP86AJFHalkAERPoR0oU96cSQcjkd19ec/yzQBUupfICqChZ8qoJ4bjGM/iKhyv2aNGVldB82Rw27kken09alh85Q25opHWYyAOvDIVPBHboP0qCZtruyq5UHOAcnGc/wCNAHk3xihK6hp0xHDI6gg9cbe3415rXr/xctlbw3YzghmhnCZ284ZSeteQUmUtgooopDCiiigAooooAK+v/gb/AMkY0L/t4/8ASiSvkCvr/wCBv/JGNC/7eP8A0okoEz0CiiigRxfxRRpPC9uqD/l8XP02PXkaxyfZ3nTDorYJBr3rxFon9v6clr9o+z7ZRJu8vfngjGMj1rio/hB5UckceuYR23FfsnH/AKHTEebFhIjKRtydxzSmUeT5UgwW6N7V6UfhFnn+2/8AyU/+zpv/AAp899dz6ZtOn/j9O4Hmy/Lg5yKv2s4BJJOQpxjtXeD4RAAg61nJz/x6f/Z06P4S+WP+Q1n/ALdf/s6LgeciBvOMmDlhubFVru43SALnah4r1kfDHG3OrZ2/9O3/ANnWe3wd3Sbv7cxzn/jz/wDs6LgeagnzCw6HkmplcbWjI+939K9HPwh+XA1vB9fsn/2dOb4R7kC/23z6/ZP/ALOi4HmMmCxJ4ZRhW9aUKWUjb8x6jPevS/8AhUXy4Oud8/8AHp/9nR/wqH/qOc+v2T/7Oi4HnqbI7Z8ZV2G05qoqHfKjHIUcGvUj8J93XWs8Y/49f/s6g/4U/jdjXMZGP+PT/wCzouB5gGY8hs7flz60/AKhWGVJya9LT4O7Mf8AE97YP+h9f/H6cvwg2/8AMb/8lP8A7Oi4HmSRZIC8e1IhDv8AMpBHHFenr8IduM65nA/59P8A7OmP8Hdzhhru055/0Tr/AOP0XA8zXOcAnjjmu6+Ev/I0XORz9ifBHcb0rSHwewP+Q7/5Kf8A2db3hLwJ/wAItqcl3/aX2vfCYtnkbMZZTnO4/wB2kBkatJjW7oKD/rnzj/eNM2GRs7eCOa6i98KfbLx5xeeXvYtjys9Tn1oi8K+X/wAvmf8Atl/9egDkYXfcylQDnGM0shMOGLEZ9RXU/wDCHjzCwvMZ/wCmX/2VK/hHeu03v/kH/wCvQBzMW6SP5jggdRUeWL7VPK8nHeuri8J+WR/puf8Atl/9emjwftummW9xu/h8n/7KgDl5mZIsrjHen71kVRweOK6c+EQ0bK15kH/pl/8AXqNfB2x8i+49PJ/+yoA5uZCEJBxgdu9V4YZJIwznOf0rrz4SJYn7d2xjyf8A69MXwcyrg6hn/tj/APZUXA5gQEr8xBx6dqe0EQhIB+Y85roh4MKk7dRIBPTyf/sqcPB2Ot/n/tj/APZUAcgPLw7HkKRgnsaYIJ1kEjEMrHt2rrm8E7if+Jh8p6jyP/sqkXwYAoBvs4/6Y/8A2VO4HKpM+PLDDbyOe9PWXahAx9K6VfBQWRm+39Tn/U9P/HqYfBBL7v7R/DyP/sqQGAGaRAE6d6ZNEwyBnJHrXVJ4R2DH23P/AGy/+vSv4TLEYvsAdvK/+vQBzcKAYyOKyPjv8vwr0nbwPt0P/oiWu7j8JlCT9tz/ANsv/r1S8e+A/wDhN/Clpop1L7F9mnSbzvI8zdtRkxt3DH3s9e1Az5x0SzVrGNiucim6np5JJjXivaLH4Hiys0g/4SDftGN32LGf/IlTH4LAnnXcj0+x/wD2dAjwzRNH/wBOWWdflXkZrr54RJakEduK9Hi+DQiPGuD/AMA//s6sH4S5Qqda/wDJT/7OgD581eHMg46VkRwGS9iTsWFfQd38BxdMT/wkWzJ/58c/+1Kpx/s8eXOsg8T8qc4/s/8A+2UDOHhGIVUDgCqGqL5kR4xg17CvwZ2rj+3v/JP/AOzqCf4I+epH/CQ7c/8ATln/ANqUCPBbr7tQWGnfbrobvug17hL+z15o/wCRnx/3D/8A7ZVnT/gKtgpH/CReYfX7Dj/2pQM81giMMIQcBRxTox8wOea9Xb4M5XA13H/bn/8AZ01PgvsOTr+f+3P/AOzoEeajb5fI59c1At7BFd7SwGe2a9VPwcyP+Q7j/tz/APs6z7n4D/aJ/NHiPZ7fYc/+1KLgcDcajGI8bh+BrBusyEuOhr1kfAQjr4lz/wBuP/2yn3PwJM8IjTxJ5fuLHP8A7UoA8MuLfzCabBZqGBJr2pf2e2Xr4oz/ANw//wC2U8fs+4XH/CTfj9g/+2UDMr4GGNfHV2iHJGmuT/39iro9ZP8AxPb7/r5k/wDQjWr4B+FX/CD+IJ9U/tn7d5tq1v5X2Xy8ZZWznef7mMY71r3ngb7Xfz3P9o7POkaTb5GcZOcZ3UAcLjP41Wltxhgoyp6oeld5/wAK+/6in/kv/wDZUH4fZ/5if/kv/wDZU7iPNgs1oxa2JZB96Juoq9a30V0uB8rjqprtpfhx5g41Taw6H7P/APZVWn+FnmyCSPWPLYdSLXr/AOP0XA5rGBTTXZxfDxkjCvq28jv9nx/7NTv+Fff9RP8A8l//ALKi4HDuuR0pm7YeenrXdH4e5/5in/kv/wDZU1vhyG/5in/kv/8AZUXA4xG/EVMMdjXWJ8OSh/5CuR6fZ/8A7KpP+FfcY/tP/wAl/wD7Ki4HHMKbj1rtB8P8f8xP/wAl/wD7Kk/4V9/1E/8AyX/+youBxRTPIqSOQqRu6V2X/Cv/APqJ/wDkv/8AZUH4f5/5if8A5L//AGVFwOXjuOQDyParKMjccEVvD4f4/wCYn/5L/wD2VSp4FKHP9pZ/7Yf/AGVAHJ3VmChMZ79u1Z8isAVLKa9AfwVuXA1DHv5P/wBlUD+ABIcnUB0/54f/AGVFwKqS/Z/hxp743bZmP/j0lcfcX095OnJwTwBXpjeFw3hu30kXWBC5fzPK+9kscYz/ALXr2rOj8ARxyB/twOP+mH/2VIDjWjCxqHByRzSvZgQGRGDBe1dzJ4LV92L0LuGP9T0/8epkPggRQNG1/v3d/J6f+PU7gcLplq8yySMpKZ6+lXrlks9OZhwxGBXZW/hD7PA0YvcgnP8Aqcf+zVBfeB/tkIjGoeXg5z5Gf/ZqVwPMI4pZCZI1ye5q1LPPF5ZT05z3NdqPhowfI1k49Ps3/wBnT5vhuZYkQatt2nOfs3/2VO4Hl8Wn3fmTzzSZLdu1TabpEsFwJZn+8c/SvSJfhq0kJj/tfGf+nb/7OnxfDjy4PL/tXJ/vfZ//ALKgDk3dAD8wYjvWV5C3szBen94V3j/DLfn/AIm+M/8ATt/9nUsPw48hNq6r+P2b/wCyouB589hJF8qDgd6dAF37XPI7V6G3w8DKQdT59fs//wBlVSL4X+XKXOsbsnP/AB7f/Z0XA5QqqMNseN3f1q7BF5ShiPrXTt8Oy8qu2q5C9B9n/wDsqt/8IQcf8hH/AMgf/ZUXA4PVGVlbfJyeMDriuflYQyBUOSB+VeiXnwtmu5zINeaMnt9lzj/x+qq/B5xKztr5bPrZ/wD2dFwOIiWSScHPP8q6DwOjJ49sMnP+s/8ARbV0lv8AC4wNk6xu/wC3XH/s9aOh+A/7G1yHUTqXnmIt8nkbc5Ur13H1oA5XVsf2/f8A/XzJ/wChGoF6cGu0uvA/2nULi5/tDb50rSbfIztyc4zuqP8A4QLnjUe3/PD/AOyouByH4ZqVRgn9K6v/AIQP/qJf+QP/ALKnDwNj/mI/+QP/ALKi4HKqSBx196mXHOBgZ4rpv+EI/wCoh/5A/wDsqcvgvH/L/wD+Qf8A7KgDmlxt/Gkc70IJ56V0w8GEMx/tDhlAI8nrgn/a96QeCiFA/tDOMf8ALHsP+BUgOYb5mZuB6D0qttxzggZxj04x+VdifBZ426hgg5/1P/2VIfBPGBqHGzbjyffOfvUwPG/idEZfAtwQCRDKj9uMyY/9mrw6vrzxB8Khr2hT6c2seT5yqpk+y7sEcg43jvzXB/8ADLv/AFN//lM/+20mUj5/or6A/wCGXf8Aqb//ACmf/baP+GXf+pv/APKZ/wDbaQ7nz/RX0B/wy7/1N/8A5TP/ALbR/wAMu/8AU3/+Uz/7bQFz5/or6A/4Zd/6m/8A8pn/ANto/wCGXf8Aqb//ACmf/baAufP9fX/wN/5IxoX/AG8f+lElcB/wy7/1N/8A5TP/ALbXr/gbwv8A8IX4LsdA+2fbfsnmfv8AyvL375Gf7uTjG7HXtQJnQUUUUCCiiigAooooAKKKKAM/TtXj1S7u0s491taymBrgtw8q/fVR3Cngn1BHY0/VtQbS9OkvfIaeKD55wh+ZYx95lGPmIHOOpGcZOAfMrC5TSP2eGXVorp5LeWWC9WGQxusn2tg5dgCQuSS3BypPrWj4E1Gxj8Q+MrcXEBsFMF1EkEJhh8o26h3RCcBSQec4JBNAHo0E8Vzbxz28iyxSqHR0OQykZBB9MVzY8W3GpeIL/SfDGnR376aypeXNzdGCGOQ8+WpCOWYDrhcD1zxUXwtgurf4V+H474MJhZqcN1CnJQf98kVzvg2+tvAev+J9I8Uzx6ct9q0uo2d7dMEiuY5QOBIfl3Lt5BOcmgDtfD2t3WsHUYtQ01tNubC6+zvEZRIHHlo4dWAGQd/H05weBs15l8SdW0rU9N8OTC4Mds3iK0TzWkaFZotw3spyNyAY+ccehrlvGp0bRYvFGk6FAbK50yytpbMSh5mAyZS9t/zzVSxLNk88YGAaBntkWpWk+p3Onwzq93axxyTxKcmNX3bM/XY3H+Iq1Xi2sSIfFfj650KNG1e70y0udKkij/fOnlSCV4WxkHbxuHfA64p8q+F/+EP8Tat4c1bUJRPocwmVo47aCKULmPcEjT9/u4HJJGQe1Aj2aiuW+HmlaVZeD9PvdJRd9/aQSXMyyl/NcRhckknnjHHpXU0AFFFFABRRRQAUUUUAFcl4i8eRaHousarbWEl/aaQwindJQmZcgFFz1C7gGPYnABwcdbXjN3bXJ/Zt16yeJ5NQhubpblFUljILxmJI6/dIP05oA9gu5ZobSSS1g+0SoMrFv2l/YE8Zx0zxnuOtR6ZqVtq+mwX9hJ5kE67kOMEdiCOxByCOxBFcHpGmabD8TbC98DTRyafNZT/2w9tOZYnbK+SWbJBkJLd84B/HU+GSSDQtVl5+yz63fS2np5JmbGPbIY/jQBP4i8W6jo/jDRNBstJtbt9aE/kTTXzQhDCgdtwETdQeMZ/Cr/hPxPF4p0+6mW2e0uLG8lsbuBmDeXNGRuAYfeHIIPHWuH+JN1pZ+KvgWHUtWSwiiXUDcTJeeQ0AaFdpLggruIwPXkVyV862Xwm8d2VtMZNFt71G0rUXba947sDJ84x5uOm7nI9ccAz3a5ubyLU7KC3sPPtZt/2i584L9nwMr8p5bceOOlW68u1Gz0HQvid4HXRZooYr24vbiQC7Z1lL25Cv8zEHceM9zXPrLpup+Lnsr7W7S21i38Su51EX32eaW2zg2wAYSDPCBfu8ZBOeQR6t4a8SL4j/ALV22klq2m6jJYOsjhizIqktxwB8/wClaMGpWlzqF1YwTrJc2gQzxqcmPfkqD7kAnHpj1FeE6q2kDwr421mOe3/tS08WB7K4Wcb4gZIOU54yok5HUKf7vHd+FF02H4x+Mv3Vut1cm0mtWWMbnjNuN7qQPulhyehPXk0DO41nUf7I0S81HyGuBaQtM0SMAWCjJwTx0FJoeqLrfh7TtVSIwrfWsVyIyclA6BsZ74zXnHiueyn8ReM7XxV5IKaSn9iLdYCsvlOZGiz/AMtPMwCR83C1neGrnTNN8ReErvVvKS0vfBcdjvePcs86vFmHgHc4CkbevGKAPZqK8D8Mw6fPY/Cyy1R1VZFv47mCSUpuGyTarLkcFjjB65xznFVtGvdOGsXGmazqLQeEotQ1G2tPKSOeCF/OUxqwdHUKU3bDj1weTQB9C0VieD7WCy8J2VrZzahcW0KlYZtR/wBdIm47SeBxjpkA7cZrboEFFFFABRRRQAVnJq6T69Lpdonmvaor3cm7Cw7hlF92OM47DknkA6NefaCupW0PxEish/xOf7Rnmtdw67raPyOvbIx+BoA7y5eaO1ke1hE8qrlIi+zefTOOKh0rVLbWdMhvrFi0MoPDDDKwOGVh2YEEEdiDXB+Abnwxqs+l3WlpdLrltZmHUlEboyuQN/2kkDc28HGSTkkjjJGr8N1k+zeI5uTb3HiG9ktj2KbgpI9i6vQBP4j8W6jo/i/RNBsdJtbx9aE/kTTXzQhDCgdtwET9QeMZ/CrGleLftHiSTw7rVi2mausP2iKMSiWK5izgtHJgZweoKgj0rl/HWradYfGPwC99f2tsluNRMzTTKgiDQKFLEnjJ4GepqDXrpPEnjq28QaOtxdaT4b0u9knu7PI+0ySRFRFC38bADdlcgHHOaBnqVYXiTxKfD11o0TWRuE1TUI7ASCUL5TOCQcYORhTXkNrrGlrva2u4bexvPB8wHlFk3XCMhUPLx5ky5OWwDknIGadqlnYWHw38BXvh25s7bWNQvdPd7iecurSx20i7nBbgKzAHHTIB6AUAe81ieMfEq+EfCt3rclnJeR2oBeONwpwSBnJ9yKyfhvqOhX2hyrpNrDZajFIyapbZUzLcAneXI5bLZIboR0x0HnnjeazvfCfj6PX1h/4SGLUNtlHPjzhahoxCYQedhXcTt6ktmgR7pRXjPiO50y11r4lQXIi3axosE2nII9/2srby5dMA7sMQdw6de2azLyLR7zUJYtSkhZIvAcUojlm2hbhd2Dtz98AL7jg0DPeaK8Ktrqx1tLC38c6teQ2l7oFi2nXEcSSh5PLIn2s0blZg+Pu4bgegr2nSFKaLZIxuiVgRc3mPOOFHMmON3r75oEXKKKKACqeq6pbaNpkt9esRFFgYUZZ2JAVVHdiSAB6kVcrjviPHKbXw5OM/ZrfxDZSXJ7Km4qCfYOyUAdSs1x/Z/nSWhFxs3G3SQE5/u7jgZ/Sue0Dxxb63o2jarJaNaWmsExwO8gbZLuYBG443BeD0zx1xnGvrrTpvilqVj408gWX2GA6Qt6AIWJ3ecVLceZnYOPmwPSuW03Nx+zXodrZsDfvd2sVuFPzLN9sVh9DtyfpzQM9nnaZbdzaxxyTAfIkjlFJ92AJH5GuD0T4iaxq/giHxYvheNtMdZHeK21DzLlER2ViEaJVP3ScBs4rvJ7iG1t3nupY4YYxueSRgqqPUk8CvJPhX4w0bRvgnpkEl3DdajGlwF0yBhLcSMZ5Cq+UuW5yOoxgg9KBHqek6rZ65pFtqemTCa0uoxJE47g/yPYjsauV4zpumw+EvDngbw74oTbOyXUjG5Bltkdvm8tox/rJPnwoyMHcRnocrQn0zxA/w203XLr7R5llf2t7bzXDKWKqFRGGQc8sB64I7UDPXvC3iU+JF1bfZGzfTNRksHUyh95RUJbIAx9/p7Vu14J4f1DR9P8Vakmu/YbnwwfEdxHBvdXW2ufLjEckmc7kKhlDdAQSexHqnjsW9x4MdDqMVhHLLB5Vy6h4c+YpUSDODExADdtpPagRa8TeJf+EbbSd1k1ymo6jDYblkC+U0jYDEd+/HtW7Xi19qduPCnh0XVrY6U8fjG23rbSj7NNtkBeaEn/lnzn2OataqYriw8aQ62NnieO8lfRXzi4ZNo+y/Zz1xkYIXvuz1NAz1+ivC7+w06bXPHFt4kkDauNMspLRBOxk+2GFyTCueW8wjAXpnA4Jp9nbrfXl3p3xD1PVrbxLBLBLaCzhjaWVRFHt+zyGNmBLhgwVgMk56mgD3Gqt/qVppkUUl/OsKzTx28e4/fkkYKqgdySf5noKxvHYil8EXiXN//ZiyGFDclQ6xM0qAbweChJAbPG0tXmOptBL4XtX1XSNNtobLxbZvfXNjh7GZCEDypkfKmMBgf4s5OcgAj3GivC9X0+x1PXfHv/CPgTXthZ2FzpUVtOytCyo5cxIDwyg4Ax8pOMDOK3tHfw1Bputa34Zvdav0k0iT7VBaxR26xlRkcJGmLjqAeSADntQB6J4h1ZtB8Oahqy25uRY273DRB9hZUUsefoDU+k3/APami2WoCPyvtdvHP5e7O3cobGe+M14edX02Gz19LO6tYrK+8FN5awqUjkmAkGCx4kkAYAtwSSBgHiul+F2qaab6Cz11bI+IjYwPZXgKn7RabMIsR6qV+ZWUckgnkdAD1aiiigAooooAKKKKAM+bV411yLSbePzrlo/Pm+bAhizgMT6kggDvg9MVekLiJjEqtIFO1WbaCewJwcD3wa4axjv4fiB48+z8XtxZ2cthv6MohkVcZ7CQP+dYPw6j0a91DR9Rg1DVpPEENu0OpWjQpHtfZ+8NyRGrNhhlSzFiSOvNAHpek6rDq9m00IaOSKRoZ4X+9DIpwyH6evQggjgis/X/ABQmkapp+kWdqb/VtSLG3thJ5aqijLSO+DtUfQkngA1l+D0kbxv43uI8/Yn1CBI/QyLboJcfjgfhVDxHbyaL8X9H8VXYf+yX06TTrifGUtG3l1d/7qtnbu6DHJFAG/ZeKnHiZfD+u2SafqM0BuLYxT+dDcIPvbXKqdy91Kjg5GabqPjWytIdEuLKM39rrGojT4riJwERyWG7nkj5G6cHHXkVzmpxw+Nvir4dudIaO90rQ4Lp7y7jw8MjTIEEIb7rHAyQM4B561wulnRx8MvAGnzG3hnHiOJb+PPlvuHnqwc8HIBUHPQFc9RkGfQNFeC2+oW9rHd2jXjxeF7PxXdw3S2ipMltC0I8ncjKy+V5m7qNoPuBWhrdroNho3he0stTvJtNm8URlJL2YRK8LIxkWMKEHkhtoHGAScHBFAHtVFVdM0yz0bTINO0yEQWluuyKIEkKPTJ5q1QIKKKKACiiigAooooAKKKKACiiigDJl8Q20d9fwqu6HTIfNvp84WH5dwT3bb8xHYEeorIsPGl3NYW+r6jowstEuoYJor4XayFUmHy702grjKhjkgbgckBiOcgihh8FfEiDWli3Lqd7MwuQMYaJGhb5v9nZg+oGKdAmmRfs0yGzjtgs3h4CX7Oq/PcG3C/Njq+7AOec0DPTW3BTsALY4BOAT9a4rQfGXiHxGmrnT/D2mg6VqM2nSLLqzr5kkWMlcW54O4Yziun0ZJ7bw7YJqDYnitYxOzH+IINxJ+ua8a8N3OlX2n+OoZ/HseiR3evX5SAXFqI5kYLiT50LlW6ZVgCBxg5NAj2eyvri60G2vpLGSK5mtkmazLDcjlQTHk45BOMnFVPCXiKPxZ4Vstcgge3jvFZlidgSoDFeSPpXFW+u6Nr/AI8upPE3lf2TcadBJof9oKFilUl/NdN3G8/Jj+LbjpXG6NqGmW3gHwLHr1xbzaW1rexXFjNKsY3k/LJuYhdy7hgEgjfuGcUDPf6K8QSO0srXwzaeJvEMl9oFxp0qSajFKL22a93KNrGVZAAEBC8DBDYxk16p4PtYLLwnZWtnNqFxbQqVhm1H/XSJuO0ngcY6ZAO3GaBG3RRRQAUUUUAFFFFABRRRQAUUUUAFFFFABRRRQBVt9Ogtb64urfdG1yQ0yKfkdwAN+P72ABkdQBnOBRqWnQarZm0vNzW7kebEGwJV/ut6qe479DwSCUUAWgAAABgDoBRRRQAUUUUAFFFFABRRRQAUUUUAFFFFABRRRQAVUh02C31Ke9g3RyXIHnop+WRgAA5H94AYyOowDnAwUUAS3dsLy0kt2kkjWQbWaJtrY7gHqMjjI59CDzS2ttBZWkVraRLDBCgSONBhUUDAAFFFAEtFFFABXF2PgS/gtDpl9ryX2lbnPly6en2h1ZizK0xY5yScsFDc5yDzRRQB2lFFFABRRRQAUUUUAFFFFABRRRQAUUUUAFVG02A6qmopujuRH5TshwJU5IVh3wSSO4ycHBIJRQBPcQ/aLd4fMki3jBeJtrAex7fXrTbO0t7CzhtLOJYbeFAkcajhVHQUUUATUUUUAFFFFABRRRQAUUUUAFFFFABRRRQAVDd2kF/Zy2t5Es0EyFJI3GQwPUUUUALbQ/ZrZIfNkl2DAeVssR7nv9evrUM+m29zqVve3AaSS1B8hWPyxsQQXA/vYOMnoM4xk5KKALdFFFABRRRQAUUUUAFFFFAHPaV4auNN8aa5rr38U0erLAptxbFTF5Ssq/PvOchjn5R+FdDRRQAUUUUAFFFFABRRRQAUUUUAFFFFABRRRQBVuNOguL+3vTujubcFVlQ4JQ43IfVTgceoBGDViRS8TIrtGWUgOuMr7jPGaKKAINP0+20uyS1so/LiUk8kksxOWYk8kkkkk8kmrNFFABRRRQAUUUUAFFFFABRRRQAUUUUAFFFFABRRRQAUUUUAVf7OgGqnUI90dw0YjlKHAlUZ2hh3wScHqMnsSKS+0231F7c3gaSO3kEqxE/Izg5VmHfaeQOmecZAIKKALdFFFABXN654a1G/8QQ6tpespZulsbWS3ubMXMTKXDZA3KVbIAJyc4XjiiigDV0jSYtItZI428ySaQzTSbFTe5AGdqgAcKBgenOTkm/RRQAUUUUAFFFFABRRRQAUUUUAf//Z)"
      ],
      "metadata": {
        "id": "QmS-c7tNiiBy"
      }
    },
    {
      "cell_type": "code",
      "source": [
        "labels_csv = pd.read_csv(\"mars-landmarks/labels-map-proj-v3.txt\", sep=' ', header=None, names=[\"Image\", \"Class_ID\"])\n",
        "labels_csv = labels_csv.merge(classmap_csv, how=\"inner\", on=\"Class_ID\")\n",
        "labels_csv"
      ],
      "metadata": {
        "colab": {
          "base_uri": "https://localhost:8080/",
          "height": 423
        },
        "id": "cgob-b5UCL1n",
        "outputId": "ff1f4da6-6c15-4c71-aad3-46385b7e6fa6"
      },
      "execution_count": null,
      "outputs": [
        {
          "output_type": "execute_result",
          "data": {
            "text/plain": [
              "                                   Image  Class_ID   Class_Name\n",
              "0           ESP_011623_2100_RED-0069.jpg         0        other\n",
              "1       ESP_011623_2100_RED-0069-r90.jpg         0        other\n",
              "2      ESP_011623_2100_RED-0069-r180.jpg         0        other\n",
              "3      ESP_011623_2100_RED-0069-r270.jpg         0        other\n",
              "4        ESP_011623_2100_RED-0069-fh.jpg         0        other\n",
              "...                                  ...       ...          ...\n",
              "73026  ESP_016758_2570_RED-0037-r180.jpg         4  bright dune\n",
              "73027  ESP_016758_2570_RED-0037-r270.jpg         4  bright dune\n",
              "73028    ESP_016758_2570_RED-0037-fh.jpg         4  bright dune\n",
              "73029    ESP_016758_2570_RED-0037-fv.jpg         4  bright dune\n",
              "73030   ESP_016758_2570_RED-0037-brt.jpg         4  bright dune\n",
              "\n",
              "[73031 rows x 3 columns]"
            ],
            "text/html": [
              "\n",
              "  <div id=\"df-fd8b4aad-6416-4918-b739-06c5c07ed156\">\n",
              "    <div class=\"colab-df-container\">\n",
              "      <div>\n",
              "<style scoped>\n",
              "    .dataframe tbody tr th:only-of-type {\n",
              "        vertical-align: middle;\n",
              "    }\n",
              "\n",
              "    .dataframe tbody tr th {\n",
              "        vertical-align: top;\n",
              "    }\n",
              "\n",
              "    .dataframe thead th {\n",
              "        text-align: right;\n",
              "    }\n",
              "</style>\n",
              "<table border=\"1\" class=\"dataframe\">\n",
              "  <thead>\n",
              "    <tr style=\"text-align: right;\">\n",
              "      <th></th>\n",
              "      <th>Image</th>\n",
              "      <th>Class_ID</th>\n",
              "      <th>Class_Name</th>\n",
              "    </tr>\n",
              "  </thead>\n",
              "  <tbody>\n",
              "    <tr>\n",
              "      <th>0</th>\n",
              "      <td>ESP_011623_2100_RED-0069.jpg</td>\n",
              "      <td>0</td>\n",
              "      <td>other</td>\n",
              "    </tr>\n",
              "    <tr>\n",
              "      <th>1</th>\n",
              "      <td>ESP_011623_2100_RED-0069-r90.jpg</td>\n",
              "      <td>0</td>\n",
              "      <td>other</td>\n",
              "    </tr>\n",
              "    <tr>\n",
              "      <th>2</th>\n",
              "      <td>ESP_011623_2100_RED-0069-r180.jpg</td>\n",
              "      <td>0</td>\n",
              "      <td>other</td>\n",
              "    </tr>\n",
              "    <tr>\n",
              "      <th>3</th>\n",
              "      <td>ESP_011623_2100_RED-0069-r270.jpg</td>\n",
              "      <td>0</td>\n",
              "      <td>other</td>\n",
              "    </tr>\n",
              "    <tr>\n",
              "      <th>4</th>\n",
              "      <td>ESP_011623_2100_RED-0069-fh.jpg</td>\n",
              "      <td>0</td>\n",
              "      <td>other</td>\n",
              "    </tr>\n",
              "    <tr>\n",
              "      <th>...</th>\n",
              "      <td>...</td>\n",
              "      <td>...</td>\n",
              "      <td>...</td>\n",
              "    </tr>\n",
              "    <tr>\n",
              "      <th>73026</th>\n",
              "      <td>ESP_016758_2570_RED-0037-r180.jpg</td>\n",
              "      <td>4</td>\n",
              "      <td>bright dune</td>\n",
              "    </tr>\n",
              "    <tr>\n",
              "      <th>73027</th>\n",
              "      <td>ESP_016758_2570_RED-0037-r270.jpg</td>\n",
              "      <td>4</td>\n",
              "      <td>bright dune</td>\n",
              "    </tr>\n",
              "    <tr>\n",
              "      <th>73028</th>\n",
              "      <td>ESP_016758_2570_RED-0037-fh.jpg</td>\n",
              "      <td>4</td>\n",
              "      <td>bright dune</td>\n",
              "    </tr>\n",
              "    <tr>\n",
              "      <th>73029</th>\n",
              "      <td>ESP_016758_2570_RED-0037-fv.jpg</td>\n",
              "      <td>4</td>\n",
              "      <td>bright dune</td>\n",
              "    </tr>\n",
              "    <tr>\n",
              "      <th>73030</th>\n",
              "      <td>ESP_016758_2570_RED-0037-brt.jpg</td>\n",
              "      <td>4</td>\n",
              "      <td>bright dune</td>\n",
              "    </tr>\n",
              "  </tbody>\n",
              "</table>\n",
              "<p>73031 rows × 3 columns</p>\n",
              "</div>\n",
              "      <button class=\"colab-df-convert\" onclick=\"convertToInteractive('df-fd8b4aad-6416-4918-b739-06c5c07ed156')\"\n",
              "              title=\"Convert this dataframe to an interactive table.\"\n",
              "              style=\"display:none;\">\n",
              "        \n",
              "  <svg xmlns=\"http://www.w3.org/2000/svg\" height=\"24px\"viewBox=\"0 0 24 24\"\n",
              "       width=\"24px\">\n",
              "    <path d=\"M0 0h24v24H0V0z\" fill=\"none\"/>\n",
              "    <path d=\"M18.56 5.44l.94 2.06.94-2.06 2.06-.94-2.06-.94-.94-2.06-.94 2.06-2.06.94zm-11 1L8.5 8.5l.94-2.06 2.06-.94-2.06-.94L8.5 2.5l-.94 2.06-2.06.94zm10 10l.94 2.06.94-2.06 2.06-.94-2.06-.94-.94-2.06-.94 2.06-2.06.94z\"/><path d=\"M17.41 7.96l-1.37-1.37c-.4-.4-.92-.59-1.43-.59-.52 0-1.04.2-1.43.59L10.3 9.45l-7.72 7.72c-.78.78-.78 2.05 0 2.83L4 21.41c.39.39.9.59 1.41.59.51 0 1.02-.2 1.41-.59l7.78-7.78 2.81-2.81c.8-.78.8-2.07 0-2.86zM5.41 20L4 18.59l7.72-7.72 1.47 1.35L5.41 20z\"/>\n",
              "  </svg>\n",
              "      </button>\n",
              "      \n",
              "  <style>\n",
              "    .colab-df-container {\n",
              "      display:flex;\n",
              "      flex-wrap:wrap;\n",
              "      gap: 12px;\n",
              "    }\n",
              "\n",
              "    .colab-df-convert {\n",
              "      background-color: #E8F0FE;\n",
              "      border: none;\n",
              "      border-radius: 50%;\n",
              "      cursor: pointer;\n",
              "      display: none;\n",
              "      fill: #1967D2;\n",
              "      height: 32px;\n",
              "      padding: 0 0 0 0;\n",
              "      width: 32px;\n",
              "    }\n",
              "\n",
              "    .colab-df-convert:hover {\n",
              "      background-color: #E2EBFA;\n",
              "      box-shadow: 0px 1px 2px rgba(60, 64, 67, 0.3), 0px 1px 3px 1px rgba(60, 64, 67, 0.15);\n",
              "      fill: #174EA6;\n",
              "    }\n",
              "\n",
              "    [theme=dark] .colab-df-convert {\n",
              "      background-color: #3B4455;\n",
              "      fill: #D2E3FC;\n",
              "    }\n",
              "\n",
              "    [theme=dark] .colab-df-convert:hover {\n",
              "      background-color: #434B5C;\n",
              "      box-shadow: 0px 1px 3px 1px rgba(0, 0, 0, 0.15);\n",
              "      filter: drop-shadow(0px 1px 2px rgba(0, 0, 0, 0.3));\n",
              "      fill: #FFFFFF;\n",
              "    }\n",
              "  </style>\n",
              "\n",
              "      <script>\n",
              "        const buttonEl =\n",
              "          document.querySelector('#df-fd8b4aad-6416-4918-b739-06c5c07ed156 button.colab-df-convert');\n",
              "        buttonEl.style.display =\n",
              "          google.colab.kernel.accessAllowed ? 'block' : 'none';\n",
              "\n",
              "        async function convertToInteractive(key) {\n",
              "          const element = document.querySelector('#df-fd8b4aad-6416-4918-b739-06c5c07ed156');\n",
              "          const dataTable =\n",
              "            await google.colab.kernel.invokeFunction('convertToInteractive',\n",
              "                                                     [key], {});\n",
              "          if (!dataTable) return;\n",
              "\n",
              "          const docLinkHtml = 'Like what you see? Visit the ' +\n",
              "            '<a target=\"_blank\" href=https://colab.research.google.com/notebooks/data_table.ipynb>data table notebook</a>'\n",
              "            + ' to learn more about interactive tables.';\n",
              "          element.innerHTML = '';\n",
              "          dataTable['output_type'] = 'display_data';\n",
              "          await google.colab.output.renderOutput(dataTable, element);\n",
              "          const docLink = document.createElement('div');\n",
              "          docLink.innerHTML = docLinkHtml;\n",
              "          element.appendChild(docLink);\n",
              "        }\n",
              "      </script>\n",
              "    </div>\n",
              "  </div>\n",
              "  "
            ]
          },
          "metadata": {},
          "execution_count": 4
        }
      ]
    },
    {
      "cell_type": "markdown",
      "source": [],
      "metadata": {
        "id": "2x3TK5XMOIQ1"
      }
    },
    {
      "cell_type": "code",
      "source": [
        "ax = labels_csv.Class_Name.value_counts().plot.bar(rot=20, title=\"ImageCount per Class\")\n",
        "for p in ax.patches:\n",
        "    ax.annotate(str(p.get_height()), xy=(p.get_x(), p.get_height()+500))"
      ],
      "metadata": {
        "colab": {
          "base_uri": "https://localhost:8080/",
          "height": 304
        },
        "id": "Rcj8zPkAFR2z",
        "outputId": "243873b4-7946-40ed-9121-2c6c339eb62d"
      },
      "execution_count": null,
      "outputs": [
        {
          "output_type": "display_data",
          "data": {
            "text/plain": [
              "<Figure size 432x288 with 1 Axes>"
            ],
            "image/png": "[encoded data removed]"
          },
          "metadata": {
            "needs_background": "light"
          }
        }
      ]
    },
    {
      "cell_type": "markdown",
      "source": [],
      "metadata": {
        "id": "PisRzSUKOK1p"
      }
    },
    {
      "cell_type": "code",
      "source": [
        "# https://matplotlib.org/stable/tutorials/introductory/images.html#sphx-glr-tutorials-introductory-images-py\n",
        "# https://matplotlib.org/stable/gallery/animation/animated_histogram.html#sphx-glr-gallery-animation-animated-histogram-py"
      ],
      "metadata": {
        "id": "fCue5po4G8Sn"
      },
      "execution_count": null,
      "outputs": []
    }
  ]
}