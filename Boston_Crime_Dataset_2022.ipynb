{
  "nbformat": 4,
  "nbformat_minor": 0,
  "metadata": {
    "colab": {
      "provenance": [],
      "authorship_tag": "ABX9TyP3XcpnQk9zvAB14PyX/O4F",
      "include_colab_link": true
    },
    "kernelspec": {
      "name": "python3",
      "display_name": "Python 3"
    },
    "language_info": {
      "name": "python"
    }
  },
  "cells": [
    {
      "cell_type": "markdown",
      "metadata": {
        "id": "view-in-github",
        "colab_type": "text"
      },
      "source": [
        "<a href=\"https://colab.research.google.com/github/markbozsoki/ColabNotebooks/blob/main/Boston_Crime_Dataset_2022.ipynb\" target=\"_parent\"><img src=\"https://colab.research.google.com/assets/colab-badge.svg\" alt=\"Open In Colab\"/></a>"
      ]
    },
    {
      "cell_type": "markdown",
      "source": [
        "<h1>Boston Crime Dataset 2022"
      ],
      "metadata": {
        "id": "XW0uqKAfZyqC"
      }
    },
    {
      "cell_type": "code",
      "execution_count": 8,
      "metadata": {
        "id": "6y0iU2EAZl9v"
      },
      "outputs": [],
      "source": [
        "# IMPORTS\n",
        "\n",
        "import pandas as pd\n"
      ]
    },
    {
      "cell_type": "code",
      "source": [
        "# DATA ACCESS\n",
        "\n",
        "crime_data = pd.read_csv(\"csv_2017_2022.csv\")\n",
        "crime_data"
      ],
      "metadata": {
        "id": "J2CXafUTaBlF"
      },
      "execution_count": null,
      "outputs": []
    },
    {
      "cell_type": "code",
      "source": [
        "crime_data.describe()"
      ],
      "metadata": {
        "id": "ky5mUfe5adEh"
      },
      "execution_count": null,
      "outputs": []
    }
  ]
}